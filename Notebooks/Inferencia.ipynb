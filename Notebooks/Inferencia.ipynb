{
 "cells": [
  {
   "cell_type": "code",
   "execution_count": null,
   "id": "9487ff55-2c94-465d-a8fa-8d1eb9404049",
   "metadata": {},
   "outputs": [],
   "source": [
    "!python -m pip install git+https://github.com/jlvb0/neuspell.git"
   ]
  },
  {
   "cell_type": "code",
   "execution_count": null,
   "id": "4203d0d2-60c9-4327-b208-32dbfef0df41",
   "metadata": {},
   "outputs": [],
   "source": [
    "from neuspell import BertChecker\n",
    "import os"
   ]
  },
  {
   "cell_type": "code",
   "execution_count": null,
   "id": "537ca059-9bf0-4f68-aacf-aff462c1dffd",
   "metadata": {},
   "outputs": [],
   "source": [
    "path='/home/jorgevargas/Data/MyFilesCNB'"
   ]
  },
  {
   "cell_type": "code",
   "execution_count": null,
   "id": "144b1bab-5218-44c0-b8f5-c534479c991e",
   "metadata": {},
   "outputs": [],
   "source": [
    "PATH_finetuned='./new_models/bert-base-spanish-wwm-cased'"
   ]
  },
  {
   "cell_type": "code",
   "execution_count": null,
   "id": "e23606d5-ec95-48fc-bc90-16ffbc11cfac",
   "metadata": {},
   "outputs": [],
   "source": [
    "punctuations=string.punctuation+'¡¿“”-«»—£'\n",
    "punctuations"
   ]
  },
  {
   "cell_type": "code",
   "execution_count": null,
   "id": "5574bc6d-a363-4a05-be4b-fea19796cecb",
   "metadata": {},
   "outputs": [],
   "source": [
    "translator = str.maketrans('','',punctuations)"
   ]
  },
  {
   "cell_type": "code",
   "execution_count": null,
   "id": "03e701b1-ec4a-42ad-b854-e529840fea6c",
   "metadata": {},
   "outputs": [],
   "source": [
    "checker=BertChecker(bert_pretrained_name_or_path='dccuchile/bert-base-spanish-wwm-cased')\n",
    "checker.from_pretrained(ckpt_path=PATH_finetuned)"
   ]
  },
  {
   "cell_type": "code",
   "execution_count": null,
   "id": "0802c15d-67f8-416c-b6ba-9a05548a2137",
   "metadata": {},
   "outputs": [],
   "source": [
    "test_file='TESIS.LIC.reportaje.TAMARIZ Estrada, María C. Operación 23 de septiembre.'"
   ]
  },
  {
   "cell_type": "code",
   "execution_count": null,
   "id": "05959728-9a76-4a62-be5e-e35b72816648",
   "metadata": {},
   "outputs": [],
   "source": [
    "corrupt_file=os.path.join(path,test_file+'_low.txt')\n",
    "checker.correct_from_file(src=corrupt_file,dest=os.path.join(path,test_file+'_low'+'_corrected.txt'))"
   ]
  }
 ],
 "metadata": {
  "kernelspec": {
   "display_name": "Python 3 (ipykernel)",
   "language": "python",
   "name": "python3"
  },
  "language_info": {
   "codemirror_mode": {
    "name": "ipython",
    "version": 3
   },
   "file_extension": ".py",
   "mimetype": "text/x-python",
   "name": "python",
   "nbconvert_exporter": "python",
   "pygments_lexer": "ipython3",
   "version": "3.10.4"
  }
 },
 "nbformat": 4,
 "nbformat_minor": 5
}
