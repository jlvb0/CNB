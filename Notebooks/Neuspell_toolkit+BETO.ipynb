{
 "cells": [
  {
   "cell_type": "markdown",
   "id": "841a12c8-c3c6-490e-a18e-97d98f406e36",
   "metadata": {
    "id": "841a12c8-c3c6-490e-a18e-97d98f406e36"
   },
   "source": [
    "Install Neuspell from github"
   ]
  },
  {
   "cell_type": "code",
   "execution_count": null,
   "id": "8e8fdcbc-6f8a-4e3d-974f-9caf1fd1af63",
   "metadata": {
    "colab": {
     "base_uri": "https://localhost:8080/"
    },
    "executionInfo": {
     "elapsed": 23496,
     "status": "ok",
     "timestamp": 1655328704073,
     "user": {
      "displayName": "Jorge Luis Vargas Barrera",
      "userId": "09933469683920997257"
     },
     "user_tz": 300
    },
    "id": "8e8fdcbc-6f8a-4e3d-974f-9caf1fd1af63",
    "outputId": "110270cc-d29f-419f-fdae-9045e7684bd4"
   },
   "outputs": [],
   "source": [
    "!python -m pip install git+https://github.com/jlvb0/neuspell.git"
   ]
  },
  {
   "cell_type": "code",
   "execution_count": 32,
   "id": "ce2c6cef-9bd9-4099-9d17-ccbd717d06aa",
   "metadata": {},
   "outputs": [],
   "source": [
    "from neuspell.seq_modeling.helpers import load_data, train_validation_split\n",
    "from neuspell.seq_modeling.helpers import get_tokens\n",
    "from neuspell import BertChecker\n",
    "import os\n",
    "from nltk.translate.bleu_score import corpus_bleu"
   ]
  },
  {
   "cell_type": "code",
   "execution_count": 20,
   "id": "d6a241c8-9df0-41cc-9437-9a5236844d38",
   "metadata": {
    "executionInfo": {
     "elapsed": 241,
     "status": "ok",
     "timestamp": 1655329399334,
     "user": {
      "displayName": "Jorge Luis Vargas Barrera",
      "userId": "09933469683920997257"
     },
     "user_tz": 300
    },
    "id": "d6a241c8-9df0-41cc-9437-9a5236844d38"
   },
   "outputs": [],
   "source": [
    "path='/home/jorgevargas/Data/MyFilesCNB' # for CIMAT server\n",
    "#path='/content/drive/MyDrive/Data/MyFilesCNB' # for google Colab"
   ]
  },
  {
   "cell_type": "code",
   "execution_count": 21,
   "id": "b42b6a48-b267-4ed7-b6de-b755cba01fec",
   "metadata": {
    "executionInfo": {
     "elapsed": 208,
     "status": "ok",
     "timestamp": 1655329401789,
     "user": {
      "displayName": "Jorge Luis Vargas Barrera",
      "userId": "09933469683920997257"
     },
     "user_tz": 300
    },
    "id": "b42b6a48-b267-4ed7-b6de-b755cba01fec"
   },
   "outputs": [],
   "source": [
    "data_dir = path\n",
    "clean_file = os.path.join(path,\"all_tesis.txt\")\n",
    "corrupt_file = os.path.join(path,\"all_tesis_high.txt\")"
   ]
  },
  {
   "cell_type": "markdown",
   "id": "babe582b-860a-4ea2-856d-08d42987925d",
   "metadata": {
    "id": "babe582b-860a-4ea2-856d-08d42987925d",
    "tags": []
   },
   "source": [
    "## BETO finetuning "
   ]
  },
  {
   "cell_type": "markdown",
   "id": "39b19984-f99f-4be0-95ae-5dffa3fb3fd8",
   "metadata": {},
   "source": [
    "NOTICE: both the clean and corrupt file must not have empty lines or punctuation symbols."
   ]
  },
  {
   "cell_type": "code",
   "execution_count": 9,
   "id": "eb002648-39b9-497f-ad7f-3f32047a89d8",
   "metadata": {
    "colab": {
     "base_uri": "https://localhost:8080/"
    },
    "executionInfo": {
     "elapsed": 1837,
     "status": "ok",
     "timestamp": 1655316573660,
     "user": {
      "displayName": "Jorge Luis Vargas Barrera",
      "userId": "09933469683920997257"
     },
     "user_tz": 300
    },
    "id": "eb002648-39b9-497f-ad7f-3f32047a89d8",
    "outputId": "3041f899-d8aa-49ec-81db-fbb4e6464a5c"
   },
   "outputs": [
    {
     "name": "stderr",
     "output_type": "stream",
     "text": [
      "103231it [00:00, 619390.13it/s]\n"
     ]
    },
    {
     "name": "stdout",
     "output_type": "stream",
     "text": [
      "# tokens in corr and incorr mismatch. retaining and trimming to min len.\n",
      "['e', 'PROLETARIOS', '0€TODÚSLOS', 'PAISES', 'UNIOS', 'Y'] ['e', 'PROLETARIOS', '0', '€', 'TODÚSLOS', 'PAI8BS', 'ON1OS', 'Y']\n",
      "e PROLETARIOS 0€TODÚSLOS PAISES UNIOS Y e PROLETARIOS 0 € TODÚSLOS PAI8BS\n",
      "# tokens in corr and incorr mismatch. retaining and trimming to min len.\n",
      "['3', 'Ibidem', 'PP', '41', '58', 'y', '€1'] ['3', '16idem', 'PP', '41', '58', 'y', '€', 'I']\n",
      "3 Ibidem PP 41 58 y €1 3 16idem PP 41 58 y €\n",
      "# tokens in corr and incorr mismatch. retaining and trimming to min len.\n",
      "['3', '7', 'ORS€', 'e'] ['3', '7', 'ORS', '€', 'e']\n",
      "3 7 ORS€ e 3 7 ORS €\n"
     ]
    },
    {
     "name": "stderr",
     "output_type": "stream",
     "text": [
      "103231it [00:00, 3199620.14it/s]"
     ]
    },
    {
     "name": "stdout",
     "output_type": "stream",
     "text": [
      "loaded tuples of (corr,incorr) examples from /home/jorgevargas/Data/MyFilesCNB/\n"
     ]
    },
    {
     "name": "stderr",
     "output_type": "stream",
     "text": [
      "\n"
     ]
    }
   ],
   "source": [
    "# Step-0: Load your train and test files, create a validation split\n",
    "train_data = load_data(data_dir, clean_file, corrupt_file)\n",
    "train_data, valid_data = train_validation_split(train_data, 0.8, seed=11690)"
   ]
  },
  {
   "cell_type": "code",
   "execution_count": 10,
   "id": "db42589f-f3e7-4df5-8165-84771c92ed44",
   "metadata": {
    "colab": {
     "base_uri": "https://localhost:8080/"
    },
    "executionInfo": {
     "elapsed": 682,
     "status": "ok",
     "timestamp": 1655316583718,
     "user": {
      "displayName": "Jorge Luis Vargas Barrera",
      "userId": "09933469683920997257"
     },
     "user_tz": 300
    },
    "id": "db42589f-f3e7-4df5-8165-84771c92ed44",
    "outputId": "ebbfac97-97ba-432b-e0c9-a7371a717ebc"
   },
   "outputs": [
    {
     "name": "stderr",
     "output_type": "stream",
     "text": [
      "100%|███████████████████████████████████████████████████████████████████████████████████████████████████████████████████████████████████| 82585/82585 [00:00<00:00, 442821.07it/s]"
     ]
    },
    {
     "name": "stdout",
     "output_type": "stream",
     "text": [
      "Total tokens found: 52224\n",
      "Total tokens retained: 39557\n",
      "Total tokens retained: 39557\n"
     ]
    },
    {
     "name": "stderr",
     "output_type": "stream",
     "text": [
      "\n"
     ]
    }
   ],
   "source": [
    "# Step-1: Create vocab file. This serves as the target vocab file andi we use the defined model's default huggingface\n",
    "# tokenizer to tokenize inputs appropriately.\n",
    "vocab = get_tokens([i[0] for i in train_data], keep_simple=True, min_max_freq=(1, float(\"inf\")), topk=100000)"
   ]
  },
  {
   "cell_type": "code",
   "execution_count": 11,
   "id": "f494ebd8-fd91-4245-9995-17f34322c1b9",
   "metadata": {
    "colab": {
     "base_uri": "https://localhost:8080/",
     "height": 203,
     "referenced_widgets": [
      "2f647fee8f5c4834834d4fcb5c2f67a5",
      "3fd87af8b2ec4f808662a904c5bc5521",
      "863c7b300e4e456bbced34e7a9803479",
      "a8ee52bcb47f40468f9f420cd987c27d",
      "aeb112020d284572be0d0da4cb273b0d",
      "e1807ac03eac47c6802341f9582dc3ab",
      "2ec4ba11ab084eb8aeaebab738e1f3da",
      "10b487d1bd04449d8243f30318ac4bbe",
      "5c0977b5927345559704d3e043ae29b1",
      "6398341a13c347d49a018279c107180c",
      "5d0e83e81e1c4183829eff3ef34d977d",
      "d60779bcd28640e79bbfec8ce3dee9ab",
      "1dc6243ba8714cdb879a93dbaf72e3c4",
      "36ad409e1b7746e681e655b549612caf",
      "d974739527fb445eaba8e869313d86f6",
      "8e6adef2f1e444aba8f6c6890c1c6859",
      "fa34e23ced3c46df9b9d70e778a6924a",
      "d04a21b1560743969fbfe3247ca5524c",
      "6342d19b9afa47f39b178d2dc1484063",
      "1d14a58bcd0e4abf87f8e80e31baa17a",
      "476b35726c7e47cd8798452891b4a538",
      "8054698a5bc24e3abe0011090d8520a1"
     ]
    },
    "executionInfo": {
     "elapsed": 24340,
     "status": "ok",
     "timestamp": 1655316615457,
     "user": {
      "displayName": "Jorge Luis Vargas Barrera",
      "userId": "09933469683920997257"
     },
     "user_tz": 300
    },
    "id": "f494ebd8-fd91-4245-9995-17f34322c1b9",
    "outputId": "e75e2dc4-3322-44cf-89f9-396bdd687325"
   },
   "outputs": [
    {
     "name": "stderr",
     "output_type": "stream",
     "text": [
      "Some weights of the model checkpoint at dccuchile/bert-base-spanish-wwm-cased were not used when initializing BertModel: ['cls.predictions.transform.dense.bias', 'cls.predictions.transform.dense.weight', 'cls.predictions.decoder.weight', 'cls.predictions.bias', 'cls.predictions.decoder.bias', 'cls.predictions.transform.LayerNorm.weight', 'cls.predictions.transform.LayerNorm.bias']\n",
      "- This IS expected if you are initializing BertModel from the checkpoint of a model trained on another task or with another architecture (e.g. initializing a BertForSequenceClassification model from a BertForPreTraining model).\n",
      "- This IS NOT expected if you are initializing BertModel from the checkpoint of a model that you expect to be exactly identical (initializing a BertForSequenceClassification model from a BertForSequenceClassification model).\n",
      "Some weights of BertModel were not initialized from the model checkpoint at dccuchile/bert-base-spanish-wwm-cased and are newly initialized: ['bert.pooler.dense.weight', 'bert.pooler.dense.bias']\n",
      "You should probably TRAIN this model on a down-stream task to be able to use it for predictions and inference.\n"
     ]
    },
    {
     "name": "stdout",
     "output_type": "stream",
     "text": [
      "Number of parameters in the model: 140272520\n"
     ]
    }
   ],
   "source": [
    "# Step-2: Initialize a model\n",
    "checker = BertChecker(device=\"cuda\")\n",
    "checker.from_huggingface(bert_pretrained_name_or_path=\"dccuchile/bert-base-spanish-wwm-cased\", vocab=vocab)"
   ]
  },
  {
   "cell_type": "code",
   "execution_count": null,
   "id": "c85593e5-fc52-48cc-ad6e-363f5ed86dc0",
   "metadata": {
    "colab": {
     "base_uri": "https://localhost:8080/",
     "height": 1000,
     "referenced_widgets": [
      "31b392e686a1460d8c2eecbb346100be",
      "cd215e7e90bc440ca2e75124c46a6a2d",
      "49d9d179cfd240ed88c5cc27d4bfadf7",
      "e68e2674c83f4e5084a879b8776af72c",
      "038b4f2cc69942018ca9e6e464f3996a",
      "79b08ba32b094968a585a3dcc083ca2e",
      "6133d312e7ac48ecb3a30d2394c4cc38",
      "2b6396aefb064ebaa2328fb66cb72f3e",
      "6367bf2f73db4afea661f3b2ca7f8627",
      "c516e95e88ec4b7aaf93486031d9f2e5",
      "e5396aaa358c4f4ca6b2fb175f1f4635",
      "3314006826844d2cb8c6220193ae9f61",
      "e3725252a2a2441cbe65627cbc67eae8",
      "f2f3ca13916a4e8cbffd2afc4c14a498",
      "74851bcea00c4db7b3d98e19400d90c6",
      "ccf3b112c476498a8b6e10e90ec27041",
      "d8000688eed94fdd83891fb72530531e",
      "d34cab69cf244464aaf71d8ef5112e83",
      "33909187efcd4b24af175e7a1bd4f09d",
      "0024983407714ac3b3c635a255adff8b",
      "cb040b968a324c6f983ea1d3f3a81cbe",
      "39b7b8caeba84f888a5ee765b5abffe2",
      "91ffd2e8f638459ab6c29ff69d4036ba",
      "1312f5abce6b44cebc78ceda52c67bcf",
      "29cfbf2e87ce46ef94418f15f1b8722f",
      "2d82026072594b28b8f0a269c85ee694",
      "b4666043075f4f8aa67bd2ea5554aca0",
      "75153538566f447798b09093c59a21ca",
      "4f30b2b179a04c1dbac8e799c189f345",
      "34d3ce3f66b44ce1af1690fc33450734",
      "8de155fd62f7476998b3756303d2ddba",
      "e18672e893b54e169d7e3e58c28082a9",
      "3355201f911140c8bcdecee6d4772589"
     ]
    },
    "executionInfo": {
     "elapsed": 4728407,
     "status": "ok",
     "timestamp": 1655325451352,
     "user": {
      "displayName": "Jorge Luis Vargas Barrera",
      "userId": "09933469683920997257"
     },
     "user_tz": 300
    },
    "id": "c85593e5-fc52-48cc-ad6e-363f5ed86dc0",
    "outputId": "87ae4c16-3ab3-4e54-a31a-22067b02703e"
   },
   "outputs": [
    {
     "name": "stderr",
     "output_type": "stream",
     "text": [
      "103231it [00:00, 610024.82it/s]\n"
     ]
    },
    {
     "name": "stdout",
     "output_type": "stream",
     "text": [
      "# tokens in corr and incorr mismatch. retaining and trimming to min len.\n",
      "['e', 'PROLETARIOS', '0€TODÚSLOS', 'PAISES', 'UNIOS', 'Y'] ['e', 'PROLETARIOS', '0', '€', 'TODÚSLOS', 'PAI8BS', 'ON1OS', 'Y']\n",
      "e PROLETARIOS 0€TODÚSLOS PAISES UNIOS Y e PROLETARIOS 0 € TODÚSLOS PAI8BS\n",
      "# tokens in corr and incorr mismatch. retaining and trimming to min len.\n",
      "['3', 'Ibidem', 'PP', '41', '58', 'y', '€1'] ['3', '16idem', 'PP', '41', '58', 'y', '€', 'I']\n",
      "3 Ibidem PP 41 58 y €1 3 16idem PP 41 58 y €\n",
      "# tokens in corr and incorr mismatch. retaining and trimming to min len.\n",
      "['3', '7', 'ORS€', 'e'] ['3', '7', 'ORS', '€', 'e']\n",
      "3 7 ORS€ e 3 7 ORS €\n"
     ]
    },
    {
     "name": "stderr",
     "output_type": "stream",
     "text": [
      "103231it [00:00, 2928008.58it/s]"
     ]
    },
    {
     "name": "stdout",
     "output_type": "stream",
     "text": [
      "loaded tuples of (corr,incorr) examples from /home/jorgevargas/Data/MyFilesCNB/\n",
      "len of train and test data:  82585 20646\n",
      "CHECKPOINT_PATH: /home/jorgevargas/Data/MyFilesCNB/new_models/bert-base-spanish-wwm-cased-2\n",
      "Training model params\n",
      "In epoch: 0\n",
      "train_data size: 82585\n"
     ]
    },
    {
     "name": "stderr",
     "output_type": "stream",
     "text": [
      "\n"
     ]
    },
    {
     "name": "stdout",
     "output_type": "stream",
     "text": [
      "Percent: [----------------------------->] 100% || batch_time: 0.1354 || batch_loss: 3.6973 || avg_batch_loss: 6.1167 || batch_acc: 0.0000 || avg_batch_acc: 0.0000 \n",
      "Epoch 0 train_loss: 6.116678104572451\n",
      "valid_data size: 20646\n",
      "Percent: [----------------------------->] 100% || batch_time: 0.0154 || batch_loss: 5.5223 || avg_batch_loss: 3.8344 || batch_acc: 0.3585 || avg_batch_acc: 0.5628 \n",
      "Epoch 0 valid_loss: 3.834381983007071\n",
      "validation accuracy improved from -1.0000 to 363.5435\n",
      "Model saved at /home/jorgevargas/Data/MyFilesCNB/new_models/bert-base-spanish-wwm-cased-2/pytorch_model.bin in epoch 0\n",
      "In epoch: 1\n",
      "train_data size: 82585\n",
      "Percent: [----------------------------->] 100% || batch_time: 0.1463 || batch_loss: 2.4379 || avg_batch_loss: 3.2675 || batch_acc: 0.5479 || avg_batch_acc: 0.5479 \n",
      "Epoch 1 train_loss: 3.2674950083897403\n",
      "valid_data size: 20646\n",
      "Percent: [----------------------------->] 100% || batch_time: 0.0152 || batch_loss: 2.9683 || avg_batch_loss: 2.3438 || batch_acc: 0.6604 || avg_batch_acc: 0.7473 \n",
      "Epoch 1 valid_loss: 2.3437748198907813\n",
      "validation accuracy improved from 363.5435 to 482.7319\n",
      "Model saved at /home/jorgevargas/Data/MyFilesCNB/new_models/bert-base-spanish-wwm-cased-2/pytorch_model.bin in epoch 1\n",
      "In epoch: 2\n",
      "train_data size: 82585\n",
      "Percent: [----------------------------->] 100% || batch_time: 0.1391 || batch_loss: 1.3451 || avg_batch_loss: 2.0902 || batch_acc: 0.7273 || avg_batch_acc: 0.7273 \n",
      "Epoch 2 train_loss: 2.0901689178395855\n",
      "valid_data size: 20646\n",
      "Percent: [----------------------------->] 100% || batch_time: 0.0153 || batch_loss: 1.7542 || avg_batch_loss: 1.5703 || batch_acc: 0.8113 || avg_batch_acc: 0.8335 \n",
      "Epoch 2 valid_loss: 1.5703190607552189\n",
      "validation accuracy improved from 482.7319 to 538.4302\n",
      "Model saved at /home/jorgevargas/Data/MyFilesCNB/new_models/bert-base-spanish-wwm-cased-2/pytorch_model.bin in epoch 2\n",
      "In epoch: 3\n",
      "train_data size: 82585\n",
      "Percent: [----------------------------->] 100% || batch_time: 0.1421 || batch_loss: 1.7770 || avg_batch_loss: 1.4141 || batch_acc: 0.9075 || avg_batch_acc: 0.9075 \n",
      "Epoch 3 train_loss: 1.4141394818466515\n",
      "valid_data size: 20646\n",
      "Percent: [----------------------------->] 100% || batch_time: 0.0152 || batch_loss: 0.9818 || avg_batch_loss: 1.1164 || batch_acc: 0.8868 || avg_batch_acc: 0.8816 \n",
      "Epoch 3 valid_loss: 1.1163733681842638\n",
      "validation accuracy improved from 538.4302 to 569.5433\n",
      "Model saved at /home/jorgevargas/Data/MyFilesCNB/new_models/bert-base-spanish-wwm-cased-2/pytorch_model.bin in epoch 3\n",
      "In epoch: 4\n",
      "train_data size: 82585\n",
      "Percent: [----------------------------->] 100% || batch_time: 0.1368 || batch_loss: 0.8510 || avg_batch_loss: 0.9859 || batch_acc: 0.8861 || avg_batch_acc: 0.8861 \n",
      "Epoch 4 train_loss: 0.9859157287765039\n",
      "valid_data size: 20646\n",
      "Percent: [----------------------------->] 100% || batch_time: 0.0154 || batch_loss: 0.6135 || avg_batch_loss: 0.8427 || batch_acc: 0.9434 || avg_batch_acc: 0.9102 \n",
      "Epoch 4 valid_loss: 0.8426831275132418\n",
      "validation accuracy improved from 569.5433 to 588.0015\n",
      "Model saved at /home/jorgevargas/Data/MyFilesCNB/new_models/bert-base-spanish-wwm-cased-2/pytorch_model.bin in epoch 4\n",
      "In epoch: 5\n",
      "train_data size: 82585\n",
      "Percent: [----------------------------->] 100% || batch_time: 0.1410 || batch_loss: 0.3430 || avg_batch_loss: 0.7037 || batch_acc: 0.9302 || avg_batch_acc: 0.9302 \n",
      "Epoch 5 train_loss: 0.7037295710406577\n",
      "valid_data size: 20646\n",
      "Percent: [----------------------------->] 100% || batch_time: 0.0151 || batch_loss: 0.4645 || avg_batch_loss: 0.6802 || batch_acc: 0.9245 || avg_batch_acc: 0.9278 \n",
      "Epoch 5 valid_loss: 0.680196466783621\n",
      "validation accuracy improved from 588.0015 to 599.3269\n",
      "Model saved at /home/jorgevargas/Data/MyFilesCNB/new_models/bert-base-spanish-wwm-cased-2/pytorch_model.bin in epoch 5\n",
      "In epoch: 6\n",
      "train_data size: 82585\n",
      "Percent: [----------------------------->] 100% || batch_time: 0.1567 || batch_loss: 0.5058 || avg_batch_loss: 0.5207 || batch_acc: 0.9448 || avg_batch_acc: 0.9448 \n",
      "Epoch 6 train_loss: 0.5206812505315482\n",
      "valid_data size: 20646\n",
      "Percent: [----------------------------->] 100% || batch_time: 0.0152 || batch_loss: 0.3844 || avg_batch_loss: 0.5829 || batch_acc: 0.9623 || avg_batch_acc: 0.9397 \n",
      "Epoch 6 valid_loss: 0.5828689215214629\n",
      "validation accuracy improved from 599.3269 to 607.0592\n",
      "Model saved at /home/jorgevargas/Data/MyFilesCNB/new_models/bert-base-spanish-wwm-cased-2/pytorch_model.bin in epoch 6\n",
      "In epoch: 7\n",
      "train_data size: 82585\n",
      "Percent: [----------------------------->] 100% || batch_time: 0.1346 || batch_loss: 0.3719 || avg_batch_loss: 0.3945 || batch_acc: 0.9524 || avg_batch_acc: 0.9524 \n",
      "Epoch 7 train_loss: 0.39449884581889455\n",
      "valid_data size: 20646\n",
      "Percent: [----------------------------->] 100% || batch_time: 0.0153 || batch_loss: 0.3392 || avg_batch_loss: 0.5307 || batch_acc: 0.9623 || avg_batch_acc: 0.9480 \n",
      "Epoch 7 valid_loss: 0.5307447618282986\n",
      "validation accuracy improved from 607.0592 to 612.4036\n",
      "Model saved at /home/jorgevargas/Data/MyFilesCNB/new_models/bert-base-spanish-wwm-cased-2/pytorch_model.bin in epoch 7\n",
      "In epoch: 8\n",
      "train_data size: 82585\n",
      "Percent: [----------------------------->] 100% || batch_time: 0.1459 || batch_loss: 0.3995 || avg_batch_loss: 0.3010 || batch_acc: 0.9623 || avg_batch_acc: 0.9623 \n",
      "Epoch 8 train_loss: 0.3009705750133838\n",
      "valid_data size: 20646\n",
      "Percent: [----------------------------->] 100% || batch_time: 0.0153 || batch_loss: 0.2998 || avg_batch_loss: 0.4757 || batch_acc: 0.9623 || avg_batch_acc: 0.9532 \n",
      "Epoch 8 valid_loss: 0.47571626540861633\n",
      "validation accuracy improved from 612.4036 to 615.7530\n",
      "Model saved at /home/jorgevargas/Data/MyFilesCNB/new_models/bert-base-spanish-wwm-cased-2/pytorch_model.bin in epoch 8\n",
      "In epoch: 9\n",
      "train_data size: 82585\n",
      "Percent: [----------------------------->] 100% || batch_time: 0.1425 || batch_loss: 0.2855 || avg_batch_loss: 0.2289 || batch_acc: 0.9755 || avg_batch_acc: 0.9755 \n",
      "Epoch 9 train_loss: 0.22891363030790646\n",
      "valid_data size: 20646\n",
      "Percent: [----------------------------->] 100% || batch_time: 0.0282 || batch_loss: 0.2867 || avg_batch_loss: 0.4436 || batch_acc: 0.9623 || avg_batch_acc: 0.9576 \n",
      "Epoch 9 valid_loss: 0.44363664400882025\n",
      "validation accuracy improved from 615.7530 to 618.5882\n",
      "Model saved at /home/jorgevargas/Data/MyFilesCNB/new_models/bert-base-spanish-wwm-cased-2/pytorch_model.bin in epoch 9\n",
      "In epoch: 10\n",
      "train_data size: 82585\n",
      "Percent: [----------------------------->] 100% || batch_time: 0.1327 || batch_loss: 0.2419 || avg_batch_loss: 0.1720 || batch_acc: 1.0000 || avg_batch_acc: 1.0000 \n",
      "Epoch 10 train_loss: 0.17197601976221683\n",
      "valid_data size: 20646\n",
      "Percent: [----------------------------->] 100% || batch_time: 0.0153 || batch_loss: 0.2600 || avg_batch_loss: 0.4289 || batch_acc: 0.9623 || avg_batch_acc: 0.9607 \n",
      "Epoch 10 valid_loss: 0.4289465745674567\n",
      "validation accuracy improved from 618.5882 to 620.6411\n",
      "Model saved at /home/jorgevargas/Data/MyFilesCNB/new_models/bert-base-spanish-wwm-cased-2/pytorch_model.bin in epoch 10\n",
      "In epoch: 11\n",
      "train_data size: 82585\n",
      "Percent: [----------------------------->] 100% || batch_time: 0.1316 || batch_loss: 0.1186 || avg_batch_loss: 0.1264 || batch_acc: 0.9891 || avg_batch_acc: 0.9891 \n",
      "Epoch 11 train_loss: 0.12636655012858475\n",
      "valid_data size: 20646\n",
      "Percent: [----------------------------->] 100% || batch_time: 0.0156 || batch_loss: 0.2444 || avg_batch_loss: 0.4073 || batch_acc: 0.9623 || avg_batch_acc: 0.9631 \n",
      "Epoch 11 valid_loss: 0.40732460174905627\n",
      "validation accuracy improved from 620.6411 to 622.1480\n",
      "Model saved at /home/jorgevargas/Data/MyFilesCNB/new_models/bert-base-spanish-wwm-cased-2/pytorch_model.bin in epoch 11\n",
      "In epoch: 12\n",
      "train_data size: 82585\n",
      "Percent: [----------------------------->] 100% || batch_time: 0.1367 || batch_loss: 0.1589 || avg_batch_loss: 0.0897 || batch_acc: 1.0000 || avg_batch_acc: 1.0000 \n",
      "Epoch 12 train_loss: 0.08969717967482367\n",
      "valid_data size: 20646\n",
      "Percent: [----------------------------->] 100% || batch_time: 0.0150 || batch_loss: 0.2100 || avg_batch_loss: 0.4065 || batch_acc: 0.9623 || avg_batch_acc: 0.9643 \n",
      "Epoch 12 valid_loss: 0.4065478599454412\n",
      "validation accuracy improved from 622.1480 to 622.9616\n",
      "Model saved at /home/jorgevargas/Data/MyFilesCNB/new_models/bert-base-spanish-wwm-cased-2/pytorch_model.bin in epoch 12\n",
      "In epoch: 13\n",
      "train_data size: 82585\n",
      "Percent: [----------------------------->] 100% || batch_time: 0.1403 || batch_loss: 0.0401 || avg_batch_loss: 0.0592 || batch_acc: 1.0000 || avg_batch_acc: 1.0000 \n",
      "Epoch 13 train_loss: 0.05918815623944844\n",
      "valid_data size: 20646\n",
      "Percent: [----------------------------->] 100% || batch_time: 0.0152 || batch_loss: 0.1999 || avg_batch_loss: 0.4147 || batch_acc: 0.9623 || avg_batch_acc: 0.9653 \n",
      "Epoch 13 valid_loss: 0.41471770220081505\n",
      "validation accuracy improved from 622.9616 to 623.6126\n",
      "Model saved at /home/jorgevargas/Data/MyFilesCNB/new_models/bert-base-spanish-wwm-cased-2/pytorch_model.bin in epoch 13\n",
      "In epoch: 14\n",
      "train_data size: 82585\n",
      "Percent: [----------------------------->] 100% || batch_time: 0.1361 || batch_loss: 0.0398 || avg_batch_loss: 0.0365 || batch_acc: 1.0000 || avg_batch_acc: 1.0000 \n",
      "Epoch 14 train_loss: 0.03645938173614499\n",
      "valid_data size: 20646\n",
      "Percent: [----------------------------->] 100% || batch_time: 0.0152 || batch_loss: 0.3070 || avg_batch_loss: 0.4094 || batch_acc: 0.9434 || avg_batch_acc: 0.9653 \n",
      "Epoch 14 valid_loss: 0.4093588060546586\n",
      "In epoch: 15\n",
      "train_data size: 82585\n",
      "Percent: [----------------------------->] 100% || batch_time: 0.1262 || batch_loss: 0.0200 || avg_batch_loss: 0.0212 || batch_acc: 1.0000 || avg_batch_acc: 1.0000 \n",
      "Epoch 15 train_loss: 0.02121522290641285\n",
      "valid_data size: 20646\n",
      "Percent: [----------------------------->] 100% || batch_time: 0.0154 || batch_loss: 0.1530 || avg_batch_loss: 0.3975 || batch_acc: 0.9623 || avg_batch_acc: 0.9655 \n",
      "Epoch 15 valid_loss: 0.3974775653332472\n",
      "validation accuracy improved from 623.6126 to 623.7443\n",
      "Model saved at /home/jorgevargas/Data/MyFilesCNB/new_models/bert-base-spanish-wwm-cased-2/pytorch_model.bin in epoch 15\n",
      "In epoch: 16\n",
      "train_data size: 82585\n",
      "Percent: [----------------------------->] 100% || batch_time: 0.1378 || batch_loss: 0.0075 || avg_batch_loss: 0.0126 || batch_acc: 1.0000 || avg_batch_acc: 1.0000 \n",
      "Epoch 16 train_loss: 0.012612375472924419\n",
      "valid_data size: 20646\n",
      "Percent: [----------------------------->] 100% || batch_time: 0.0152 || batch_loss: 0.1455 || avg_batch_loss: 0.3978 || batch_acc: 0.9623 || avg_batch_acc: 0.9654 \n",
      "Epoch 16 valid_loss: 0.3978106821296108\n",
      "In epoch: 17\n",
      "train_data size: 82585\n",
      "Percent: [----------------------------->] 100% || batch_time: 0.1431 || batch_loss: 0.0175 || avg_batch_loss: 0.0084 || batch_acc: 1.0000 || avg_batch_acc: 1.0000 \n",
      "Epoch 17 train_loss: 0.008434320008232228\n",
      "valid_data size: 20646\n",
      "Percent: [----------------------------->] 100% || batch_time: 0.0257 || batch_loss: 0.1517 || avg_batch_loss: 0.3916 || batch_acc: 0.9623 || avg_batch_acc: 0.9658 \n",
      "Epoch 17 valid_loss: 0.3916089164652507\n",
      "validation accuracy improved from 623.7443 to 623.9125\n",
      "Model saved at /home/jorgevargas/Data/MyFilesCNB/new_models/bert-base-spanish-wwm-cased-2/pytorch_model.bin in epoch 17\n",
      "In epoch: 18\n",
      "train_data size: 82585\n",
      "Percent: [----------------------------->] 100% || batch_time: 0.1356 || batch_loss: 0.0032 || avg_batch_loss: 0.0059 || batch_acc: 1.0000 || avg_batch_acc: 1.0000 \n",
      "Epoch 18 train_loss: 0.005946580778736768\n",
      "valid_data size: 20646\n",
      "Percent: [----------------------------->] 100% || batch_time: 0.0171 || batch_loss: 0.1413 || avg_batch_loss: 0.3792 || batch_acc: 0.9623 || avg_batch_acc: 0.9658 \n",
      "Epoch 18 valid_loss: 0.3792220189844492\n",
      "validation accuracy improved from 623.9125 to 623.9200\n",
      "Model saved at /home/jorgevargas/Data/MyFilesCNB/new_models/bert-base-spanish-wwm-cased-2/pytorch_model.bin in epoch 18\n",
      "In epoch: 19\n",
      "train_data size: 82585\n",
      "Percent: [----------------------------->] 100% || batch_time: 0.1429 || batch_loss: 0.0051 || avg_batch_loss: 0.0050 || batch_acc: 1.0000 || avg_batch_acc: 1.0000 \n",
      "Epoch 19 train_loss: 0.005010861639197035\n",
      "valid_data size: 20646\n",
      "Percent: [----------------------------->] 100% || batch_time: 0.0258 || batch_loss: 0.1267 || avg_batch_loss: 0.3947 || batch_acc: 0.9623 || avg_batch_acc: 0.9656 \n",
      "Epoch 19 valid_loss: 0.39473815829761255\n",
      "In epoch: 20\n",
      "train_data size: 82585\n",
      "Percent: [----------------------------->] 100% || batch_time: 0.1377 || batch_loss: 0.0018 || avg_batch_loss: 0.0042 || batch_acc: 1.0000 || avg_batch_acc: 1.0000 \n",
      "Epoch 20 train_loss: 0.004220726792385758\n",
      "valid_data size: 20646\n",
      "Percent: [----------------------------->] 100% || batch_time: 0.0246 || batch_loss: 0.1209 || avg_batch_loss: 0.4025 || batch_acc: 0.9623 || avg_batch_acc: 0.9659 \n",
      "Epoch 20 valid_loss: 0.402469564286917\n",
      "validation accuracy improved from 623.9200 to 623.9988\n",
      "Model saved at /home/jorgevargas/Data/MyFilesCNB/new_models/bert-base-spanish-wwm-cased-2/pytorch_model.bin in epoch 20\n",
      "In epoch: 21\n",
      "train_data size: 82585\n",
      "Percent: [----------------------------->] 100% || batch_time: 0.1415 || batch_loss: 0.0040 || avg_batch_loss: 0.0031 || batch_acc: 1.0000 || avg_batch_acc: 1.0000 \n",
      "Epoch 21 train_loss: 0.003117390882010454\n",
      "valid_data size: 20646\n",
      "Percent: [----------------------------->] 100% || batch_time: 0.0153 || batch_loss: 0.1205 || avg_batch_loss: 0.4116 || batch_acc: 0.9811 || avg_batch_acc: 0.9659 \n",
      "Epoch 21 valid_loss: 0.41156782715036405\n",
      "In epoch: 22\n",
      "train_data size: 82585\n",
      "Percent: [----------------------------->] 100% || batch_time: 0.1306 || batch_loss: 0.0011 || avg_batch_loss: 0.0029 || batch_acc: 1.0000 || avg_batch_acc: 1.0000 \n",
      "Epoch 22 train_loss: 0.0029339466704400175\n",
      "valid_data size: 20646\n",
      "Percent: [----------------------------->] 100% || batch_time: 0.0153 || batch_loss: 0.1280 || avg_batch_loss: 0.3889 || batch_acc: 0.9623 || avg_batch_acc: 0.9662 \n",
      "Epoch 22 valid_loss: 0.38886756772873204\n",
      "validation accuracy improved from 623.9988 to 624.1578\n",
      "Model saved at /home/jorgevargas/Data/MyFilesCNB/new_models/bert-base-spanish-wwm-cased-2/pytorch_model.bin in epoch 22\n",
      "In epoch: 23\n",
      "train_data size: 82585\n",
      "Percent: [----------------------------->] 100% || batch_time: 0.1317 || batch_loss: 0.0011 || avg_batch_loss: 0.0026 || batch_acc: 1.0000 || avg_batch_acc: 1.0000 \n",
      "Epoch 23 train_loss: 0.002584700636886301\n",
      "valid_data size: 20646\n",
      "Percent: [----------------------------->] 100% || batch_time: 0.0152 || batch_loss: 0.1192 || avg_batch_loss: 0.3917 || batch_acc: 0.9811 || avg_batch_acc: 0.9658 \n",
      "Epoch 23 valid_loss: 0.3917074975076106\n",
      "In epoch: 24\n",
      "train_data size: 82585\n",
      "Percent: [------------>                 ] 44% || batch_time: 0.1672 || batch_loss: 0.0009 || avg_batch_loss: 0.0027 || batch_acc: 1.0000 || avg_batch_acc: 1.0000 "
     ]
    }
   ],
   "source": [
    "# Step-3: Finetune the model on your dataset\n",
    "checker.finetune(clean_file=clean_file, corrupt_file=corrupt_file, data_dir=data_dir,n_epochs=50)"
   ]
  },
  {
   "cell_type": "markdown",
   "id": "12607fd4-d0d3-415e-b9ae-ca1237cfb32e",
   "metadata": {
    "id": "12607fd4-d0d3-415e-b9ae-ca1237cfb32e",
    "tags": []
   },
   "source": [
    "## Loading finetuned model"
   ]
  },
  {
   "cell_type": "code",
   "execution_count": 22,
   "id": "270bdcf6-1ece-4af6-8dcb-cae25ae3acdc",
   "metadata": {
    "executionInfo": {
     "elapsed": 3,
     "status": "ok",
     "timestamp": 1655329596736,
     "user": {
      "displayName": "Jorge Luis Vargas Barrera",
      "userId": "09933469683920997257"
     },
     "user_tz": 300
    },
    "id": "270bdcf6-1ece-4af6-8dcb-cae25ae3acdc"
   },
   "outputs": [],
   "source": [
    "#path to my finetuned model\n",
    "PATH_finetuned='/home/jorgevargas/Data/MyFilesCNB/new_models/bert-base-spanish-wwm-cased' # for CIMAT server\n",
    "#PATH='/content/drive/MyDrive/Data/MyFilesCNB/new_models/bert-base-spanish-wwm-cased' #for Google Colab"
   ]
  },
  {
   "cell_type": "code",
   "execution_count": 23,
   "id": "b3db71aa-ec46-4086-a007-e4babb51ddb6",
   "metadata": {
    "colab": {
     "base_uri": "https://localhost:8080/",
     "height": 254,
     "referenced_widgets": [
      "e1c5714ca72d4906b6e380ac1697feb0",
      "668736183a3742a9bef90918d253f9b8",
      "88c9103d96b44e0fa4ab90ffaf18d244",
      "cab7cbcac3134fdf927f5426e7731fd3",
      "46e2ed53ffc8458385d2ab79dafe04ad",
      "77a2c62d8a364a05a3f6934e001c6a92",
      "eb89e887d1ec419dac17f086a6ded7a9",
      "eafb9fac4a6043eab52abcb61b927434",
      "1a269528ae54450fbb5d688d9fecfedf",
      "bdc5ea52f49e4b62829eac6e14015dad",
      "e3a661db9a1d49b8be2df4406f4c95ef",
      "38994c8ef54c427d855298bbcb1108fd",
      "78946b8982cc46d18870ec3d641adbdb",
      "4bc2799fbc22473c98e8f4294393bde3",
      "cce7f6676b61493e84d86649613f0e76",
      "332cd8e4e13f4a6082942d51d2ed851f",
      "b5f06061ff1a483a905338b58e8ac86a",
      "03310407e69848e8a622ed04ca4b4f8d",
      "2e74a1fd9d764c5fb258965a66b4b6ef",
      "1c389e39853f4065a2360069b32ff3fa",
      "bc087fd7b80a435b9c0acf30e214f41b",
      "96ca613cc4d1465898e5aa21e31d82a5"
     ]
    },
    "executionInfo": {
     "elapsed": 18304,
     "status": "ok",
     "timestamp": 1655329618113,
     "user": {
      "displayName": "Jorge Luis Vargas Barrera",
      "userId": "09933469683920997257"
     },
     "user_tz": 300
    },
    "id": "b3db71aa-ec46-4086-a007-e4babb51ddb6",
    "outputId": "53f47406-a88a-4e0a-b578-ec56992c648e"
   },
   "outputs": [
    {
     "name": "stdout",
     "output_type": "stream",
     "text": [
      "loading vocab from path:/home/jorgevargas/Data/MyFilesCNB/new_models/bert-base-spanish-wwm-cased/vocab.pkl\n",
      "initializing model\n"
     ]
    },
    {
     "name": "stderr",
     "output_type": "stream",
     "text": [
      "Some weights of the model checkpoint at dccuchile/bert-base-spanish-wwm-cased were not used when initializing BertModel: ['cls.predictions.transform.dense.bias', 'cls.predictions.transform.LayerNorm.weight', 'cls.predictions.transform.LayerNorm.bias', 'cls.predictions.bias', 'cls.predictions.decoder.bias', 'cls.predictions.transform.dense.weight', 'cls.predictions.decoder.weight']\n",
      "- This IS expected if you are initializing BertModel from the checkpoint of a model trained on another task or with another architecture (e.g. initializing a BertForSequenceClassification model from a BertForPreTraining model).\n",
      "- This IS NOT expected if you are initializing BertModel from the checkpoint of a model that you expect to be exactly identical (initializing a BertForSequenceClassification model from a BertForSequenceClassification model).\n",
      "Some weights of BertModel were not initialized from the model checkpoint at dccuchile/bert-base-spanish-wwm-cased and are newly initialized: ['bert.pooler.dense.bias', 'bert.pooler.dense.weight']\n",
      "You should probably TRAIN this model on a down-stream task to be able to use it for predictions and inference.\n"
     ]
    },
    {
     "name": "stdout",
     "output_type": "stream",
     "text": [
      "Number of parameters in the model: 140272520\n",
      "Loading model params from checkpoint dir: /home/jorgevargas/Data/MyFilesCNB/new_models/bert-base-spanish-wwm-cased\n"
     ]
    }
   ],
   "source": [
    "checker=BertChecker(bert_pretrained_name_or_path='dccuchile/bert-base-spanish-wwm-cased')\n",
    "checker.from_pretrained(ckpt_path=PATH_finetuned)"
   ]
  },
  {
   "cell_type": "markdown",
   "id": "08bbaf8c-4f70-44ee-9830-9c7213386b7d",
   "metadata": {
    "id": "08bbaf8c-4f70-44ee-9830-9c7213386b7d",
    "tags": []
   },
   "source": [
    "## Correction visual evaluation"
   ]
  },
  {
   "cell_type": "code",
   "execution_count": 24,
   "id": "56ed409b-1441-4735-930f-2c3c8775cf51",
   "metadata": {},
   "outputs": [],
   "source": [
    "test_file='TESIS.LIC.reportaje.TAMARIZ Estrada, María C. Operación 23 de septiembre.'"
   ]
  },
  {
   "cell_type": "code",
   "execution_count": 25,
   "id": "51e08ff6-5499-4645-88cd-d09612b66815",
   "metadata": {
    "colab": {
     "base_uri": "https://localhost:8080/",
     "height": 181
    },
    "executionInfo": {
     "elapsed": 517,
     "status": "error",
     "timestamp": 1655325625178,
     "user": {
      "displayName": "Jorge Luis Vargas Barrera",
      "userId": "09933469683920997257"
     },
     "user_tz": 300
    },
    "id": "51e08ff6-5499-4645-88cd-d09612b66815",
    "outputId": "b93f7fac-0f8c-4f6e-c8f3-0cb3fc44b6a8"
   },
   "outputs": [],
   "source": [
    "with open(os.path.join(path,test_file+'.txt')) as f:\n",
    "  tesis=f.readlines()"
   ]
  },
  {
   "cell_type": "code",
   "execution_count": 26,
   "id": "d3c44d3b-5129-4c3c-8eb6-b86c4f8147d4",
   "metadata": {
    "id": "d3c44d3b-5129-4c3c-8eb6-b86c4f8147d4"
   },
   "outputs": [],
   "source": [
    "level=['low','medium','high']\n",
    "tesis_files={}\n",
    "for l in level:\n",
    "  with open(os.path.join(path,test_file+'_'+l+'.txt')) as f:\n",
    "    tesis_files[l]=f.readlines()"
   ]
  },
  {
   "cell_type": "markdown",
   "id": "95b2bcd2-c4f5-4c32-943b-4568c2fa97c4",
   "metadata": {
    "id": "95b2bcd2-c4f5-4c32-943b-4568c2fa97c4"
   },
   "source": [
    "Showing some corrections to evaluate the performance of the model."
   ]
  },
  {
   "cell_type": "code",
   "execution_count": 27,
   "id": "59e878a7-77b9-4fad-8cb8-4a2e4eddd0bd",
   "metadata": {
    "id": "59e878a7-77b9-4fad-8cb8-4a2e4eddd0bd"
   },
   "outputs": [],
   "source": [
    "examples=[s for s in tesis_files['high'][200:225]]\n",
    "original=[s for s in tesis[200:225]]"
   ]
  },
  {
   "cell_type": "code",
   "execution_count": 28,
   "id": "d4cc6fd7-87f8-4686-a7ac-438001bc8b18",
   "metadata": {
    "id": "d4cc6fd7-87f8-4686-a7ac-438001bc8b18",
    "outputId": "477192b1-f7f5-45b1-a5f9-adf4901a8212"
   },
   "outputs": [
    {
     "name": "stdout",
     "output_type": "stream",
     "text": [
      "Original sentence: minuciosa consulta hemerográfica de los principales diarios de circulación nacional Es\n",
      "\n",
      " Codification: minuciosa c0nso1ta hemek09káfica de los pkincipa1e8 diarios de circulación nacional Es\n",
      " Correction: minuciosamente consulta hemek09káfica de los principales diarios de circulación nacional Es\n",
      "------------------------------------------------------------------------------------------\n",
      "Original sentence: así como a partir de informes de inteligencia notas periodísticas de la época y\n",
      "\n",
      " Codification: así c0m0 a partir de inf0kme8 de inteligencia notas periodísticas de 1a época y\n",
      " Correction: así como a partir de informes de inteligencia notas periodísticas de la época y\n",
      "------------------------------------------------------------------------------------------\n",
      "Original sentence: entrevistas se reconstruyen algunos episodios que marcaron el surgimiento y el declive\n",
      "\n",
      " Codification: entrevistas se rec0n8tkoyen algunos episodios que makcakun el 8or9imient0 y el declive\n",
      " Correction: entrevistas se reconstruyen algunos episodios que marcaron el surgimiento y el declive\n",
      "------------------------------------------------------------------------------------------\n",
      "Original sentence: de la guerrilla urbana en la Ciudad de México\n",
      "\n",
      " Codification: de la guerrilla urbana en 1a Ciudad de Méxic0\n",
      " Correction: de la guerrilla urbana en la Ciudad de Méxic0\n",
      "------------------------------------------------------------------------------------------\n",
      "Original sentence: En el aspecto gráfico se incluyen fotografías inéditas algunas obtenidas del\n",
      "\n",
      " Codification: Bn el aspecto gráfico se inc1oyen fotografías inéditas algunas u6tenida8 de1\n",
      " Correction: En el aspecto gráfico se incluyen fotografías inéditas algunas obtenidas del\n",
      "------------------------------------------------------------------------------------------\n",
      "Original sentence: mismo Archivo General de la Nación otras fueron facilitadas por los ex militantes del\n",
      "\n",
      " Codification: mismo Akchivu Ceneka1 de la Nación otras fueron facilitadas puk los ex mi1itante8 del\n",
      " Correction: mismo Archivo General de la Nación otras fueron facilitadas por los ex militantes del\n",
      "------------------------------------------------------------------------------------------\n",
      "Original sentence: movimiento armado Al final del trabajo se presenta un anexo donde se indica la\n",
      "\n",
      " Codification: movimiento armado A1 final del tka6aj0 se presenta on anexo dunde 8e indica la\n",
      " Correction: movimiento armado Al final del trabajo se presenta un anexo donde se indica la\n",
      "------------------------------------------------------------------------------------------\n",
      "Original sentence: procedencia de cada una de las imágenes que ilustran el presente reportaje Además\n",
      "\n",
      " Codification: procedencia de cada ona de las imá9ene8 que ilustran el presente reportaje Además\n",
      " Correction: procedencia de cada una de las imá9ene8 que ilustran el presente reportaje Además\n",
      "------------------------------------------------------------------------------------------\n",
      "Original sentence: para facilitar la lectura del trabajo al inicio se incluye una lista con las siglas de las\n",
      "\n",
      " Codification: para faci1itak 1a 1ectoka del tka6aju a1 inicio se incluye una lista con las siglas de las\n",
      " Correction: para facilitar la lectura del trabajo al inicio se incluye una lista con las siglas de las\n",
      "------------------------------------------------------------------------------------------\n",
      "Original sentence: organizaciones y grupos armados que se mencionan en cada capítulo\n",
      "\n",
      " Codification: uk9ani2aciunes y grupos armados que se mencionan en cada capíto1u\n",
      " Correction: organizaciones y grupos armados que se mencionan en cada capíto1u\n",
      "------------------------------------------------------------------------------------------\n",
      "Original sentence: Por lo que respecta al contenido del reportaje éste se integra por cuatro capítulos\n",
      "\n",
      " Codification: Por lo que ke8pecta a1 contenido del reportaje é8te se inte9ka por cuatro capítu1u8\n",
      " Correction: Por lo que respecta al contenido del reportaje é8te se integra por cuatro capítu1u8\n",
      "------------------------------------------------------------------------------------------\n",
      "Original sentence: En el capítulo 1 Preludio de la insurgencia juvenil se abordan los aspectos históricos\n",
      "\n",
      " Codification: En el capíto10 l Pke1udiu de la insurgencia juvenil 8e abordan los aspectos hi8tókicus\n",
      " Correction: En el capíto10 l Progreso de la insurgencia juvenil se abordan los aspectos hi8tókicus\n",
      "------------------------------------------------------------------------------------------\n",
      "Original sentence: en el plano internacional que revisten el surgimiento de los movimientos armados en\n",
      "\n",
      " Codification: en el p1anu internacional que revisten e1 surgimiento de 1o8 muvimient08 armados en\n",
      " Correction: en el plano internacional que revisten el surgimiento de los movimientos armados en\n",
      "------------------------------------------------------------------------------------------\n",
      "Original sentence: América Latina Se recurre además a las teorías que sustentan los grupos de guerrilla\n",
      "\n",
      " Codification: Amékica Latina Se recurre además a las teorías que 8o8tentan l08 gkup0s de guerrilla\n",
      " Correction: Amékica Latina Se recurre además a las teorías que sustentan los grupos de guerrilla\n",
      "------------------------------------------------------------------------------------------\n",
      "Original sentence:  Vicente Leñero y Carlos Marín Manual de periodismo Grijalbo México 1986 p 185\n",
      "\n",
      " Codification: Vicente Leñero y Carlos Marín Manual de periodismo Gkija16o México 1986 p 185\n",
      " Correction: Vicente Leñero y Carlos Marín Manual de periodismo Grijalbo México 1986 p 185\n",
      "------------------------------------------------------------------------------------------\n",
      "Original sentence: pagina1\n",
      "\n",
      " Codification: pa9ina4\n",
      " Correction: pa9ina4\n",
      "------------------------------------------------------------------------------------------\n",
      "Original sentence: vi\n",
      "\n",
      " Codification: vi\n",
      " Correction: vi\n",
      "------------------------------------------------------------------------------------------\n",
      "Original sentence: urbana para aplicarlos en su momento al caso de la Liga Comunista 23 de Septiembre\n",
      "\n",
      " Codification: or6ana para ap1icak1os en su momento al caso de 1a Liga Comunista 23 de Septiembre\n",
      " Correction: urbana para aplicarlos en su momento al caso de la Liga Comunista 23 de Septiembre\n",
      "------------------------------------------------------------------------------------------\n",
      "Original sentence: Por último y con la intención de mostrar un panorama de las condiciones políticas y\n",
      "\n",
      " Codification: Puk último y cun la intención de mo8tkak on panorama de 1a8 condiciones políticas y\n",
      " Correction: Por último y con la intención de mostrar un panorama de las condiciones políticas y\n",
      "------------------------------------------------------------------------------------------\n",
      "Original sentence: sociales que alimentaron las protestas estudiantiles en los años setenta el politólogo\n",
      "\n",
      " Codification: s0cia1e8 que alimentaron 1a8 protestas e8todianti1e8 en los añu8 setenta el politólogo\n",
      " Correction: sociales que alimentaron las protestas estudiantiles en los añu8 setenta el politólogo\n",
      "------------------------------------------------------------------------------------------\n",
      "Original sentence: Alberto Aziz Nassif define en una entrevista tales condiciones\n",
      "\n",
      " Codification: Alberto Aziz Na88if define en ona entkevi8ta tales condiciones\n",
      " Correction: Alberto Aziz Nassif define en una entrevista tales condiciones\n",
      "------------------------------------------------------------------------------------------\n",
      "Original sentence: Como parte de la incipiente radicalización de algunos núcleos estudiantiles en el\n",
      "\n",
      " Codification: C0m0 parte de la incipiente kadica1i2ación de algunos núcleos estudiantiles en el\n",
      " Correction: Como parte de la incipiente kadica1i2ación de algunos núcleos estudiantiles en el\n",
      "------------------------------------------------------------------------------------------\n",
      "Original sentence: país en el capítulo 2 Movimientos universitarios el germen de la insurrección se\n",
      "\n",
      " Codification: país en el capíto10 z Movimientos universitarios el 9ekmen de la insurrección se\n",
      " Correction: país en el capíto10 z Movimientos universitarios el germen de la insurrección se\n",
      "------------------------------------------------------------------------------------------\n",
      "Original sentence: abordan los procesos políticos que propiciaron el encuentro entre las organizaciones de\n",
      "\n",
      " Codification: abordan los procesos políticos que pk0piciak0n e1 encoentku entre las 0kgani2aciune8 de\n",
      " Correction: abordan los procesos políticos que propiciaron el encuentro entre las organizaciones de\n",
      "------------------------------------------------------------------------------------------\n",
      "Original sentence: izquierda y el estudiantado El referente indiscutible es el 2 de octubre pero en este caso\n",
      "\n",
      " Codification: izquierda y el estudiantado El referente indi8coti61e es e1 2 de octubre peku en e8te caso\n",
      " Correction: izquierda y el estudiantado El referente indiscutible es el 2 de octubre pero en este caso\n",
      "------------------------------------------------------------------------------------------\n"
     ]
    }
   ],
   "source": [
    "corrections=checker.correct_strings(examples,return_all=True)\n",
    "for og,cod,corr in zip(original,corrections[0],corrections[1]):\n",
    "  print('Original sentence: {}\\n Codification: {}\\n Correction: {}\\n------------------------------------------------------------------------------------------'.format(og,cod,corr))"
   ]
  },
  {
   "cell_type": "markdown",
   "id": "b3487a21-a0c7-4755-90a6-95db412ce43a",
   "metadata": {
    "tags": []
   },
   "source": [
    "## Save correction of files"
   ]
  },
  {
   "cell_type": "markdown",
   "id": "884d63ea-2fa2-4dcb-b2d1-86d2ec7b0629",
   "metadata": {
    "tags": []
   },
   "source": [
    "#### Correction of low level error file"
   ]
  },
  {
   "cell_type": "code",
   "execution_count": 13,
   "id": "fbc5e98b-388c-4e61-a1ba-c55b19b71c6f",
   "metadata": {},
   "outputs": [
    {
     "name": "stdout",
     "output_type": "stream",
     "text": [
      "saving results at: /home/jorgevargas/Data/MyFilesCNB/TESIS.LIC.reportaje.TAMARIZ Estrada, María C. Operación 23 de septiembre._low_corrected.txt\n"
     ]
    }
   ],
   "source": [
    "corrupt_file=os.path.join(path,test_file+'_low.txt')\n",
    "checker.correct_from_file(src=corrupt_file,dest=os.path.join(path,test_file+'_low'+'_corrected.txt'))"
   ]
  },
  {
   "cell_type": "markdown",
   "id": "08a17217-6630-4b89-a276-c794ade47799",
   "metadata": {},
   "source": [
    "#### Correction of medium level error file"
   ]
  },
  {
   "cell_type": "code",
   "execution_count": 11,
   "id": "da0d42c7-855d-4c1d-a731-1d2a076ed458",
   "metadata": {},
   "outputs": [
    {
     "name": "stdout",
     "output_type": "stream",
     "text": [
      "saving results at: /home/jorgevargas/Data/MyFilesCNB/TESIS.LIC.reportaje.TAMARIZ Estrada, María C. Operación 23 de septiembre._medium_corrected.txt\n"
     ]
    }
   ],
   "source": [
    "corrupt_file=os.path.join(path,test_file+'_medium.txt')\n",
    "checker.correct_from_file(src=corrupt_file,dest=os.path.join(path,test_file+'_medium'+'_corrected.txt'))"
   ]
  },
  {
   "cell_type": "markdown",
   "id": "20c0fdec-c330-41e8-9fc1-a9194011b9fd",
   "metadata": {},
   "source": [
    "#### Correction of high level error file"
   ]
  },
  {
   "cell_type": "code",
   "execution_count": 12,
   "id": "a1cb46e9-afd4-4f09-adbc-b95f6d31b75d",
   "metadata": {},
   "outputs": [
    {
     "name": "stdout",
     "output_type": "stream",
     "text": [
      "saving results at: /home/jorgevargas/Data/MyFilesCNB/TESIS.LIC.reportaje.TAMARIZ Estrada, María C. Operación 23 de septiembre._high_corrected.txt\n"
     ]
    }
   ],
   "source": [
    "corrupt_file=os.path.join(path,test_file+'_high.txt')\n",
    "checker.correct_from_file(src=corrupt_file,dest=os.path.join(path,test_file+'_high'+'_corrected.txt'))"
   ]
  },
  {
   "cell_type": "markdown",
   "id": "714acb28-3ef0-4aa8-b425-fe52332df1a7",
   "metadata": {
    "tags": []
   },
   "source": [
    "## Model evaluation"
   ]
  },
  {
   "cell_type": "markdown",
   "id": "37758c27-7c2a-49db-82cb-eab122cb86ef",
   "metadata": {
    "tags": []
   },
   "source": [
    "### Low error text"
   ]
  },
  {
   "cell_type": "code",
   "execution_count": 70,
   "id": "4b0e6a44-854b-4aae-8b62-092429f2a1b4",
   "metadata": {},
   "outputs": [
    {
     "name": "stdout",
     "output_type": "stream",
     "text": [
      " /home/jorgevargas/Data/MyFilesCNB/TESIS.LIC.reportaje.TAMARIZ Estrada, María C. Operación 23 de septiembre..txt /home/jorgevargas/Data/MyFilesCNB/TESIS.LIC.reportaje.TAMARIZ Estrada, María C. Operación 23 de septiembre._low.txt\n"
     ]
    },
    {
     "name": "stderr",
     "output_type": "stream",
     "text": [
      "5308it [00:00, 399063.72it/s]\n",
      "5308it [00:00, 1321581.72it/s]\n"
     ]
    },
    {
     "name": "stdout",
     "output_type": "stream",
     "text": [
      "loaded tuples of (corr,incorr) examples from \n",
      "###############################################\n",
      "data size: 5308\n"
     ]
    },
    {
     "name": "stderr",
     "output_type": "stream",
     "text": [
      "332it [00:08, 37.90it/s]"
     ]
    },
    {
     "name": "stdout",
     "output_type": "stream",
     "text": [
      "\n",
      "Epoch None valid_loss: 0.18617588565601878\n",
      "total inference time for this data is: 8.767655 secs\n",
      "###############################################\n",
      "\n",
      "\n",
      "total token count: 46057\n",
      "_corr2corr:38082, _corr2incorr:308, _incorr2corr:5478, _incorr2incorr:2189\n",
      "accuracy is 0.9457845712920946\n",
      "word correction rate is 0.7144906743185079\n",
      "###############################################\n"
     ]
    },
    {
     "name": "stderr",
     "output_type": "stream",
     "text": [
      "\n"
     ]
    }
   ],
   "source": [
    "clean_file=os.path.join(path,test_file+'.txt')\n",
    "corrupt_file=os.path.join(path,test_file+'_low.txt')\n",
    "checker.evaluate(clean_file=clean_file,corrupt_file=corrupt_file)"
   ]
  },
  {
   "cell_type": "markdown",
   "id": "6b472c53-7cce-42bc-8a57-49cbcdf6a83d",
   "metadata": {},
   "source": [
    "### Medium error text"
   ]
  },
  {
   "cell_type": "code",
   "execution_count": 71,
   "id": "29b5d88f-205c-4e42-a925-0d2696722b74",
   "metadata": {},
   "outputs": [
    {
     "name": "stdout",
     "output_type": "stream",
     "text": [
      " /home/jorgevargas/Data/MyFilesCNB/TESIS.LIC.reportaje.TAMARIZ Estrada, María C. Operación 23 de septiembre..txt /home/jorgevargas/Data/MyFilesCNB/TESIS.LIC.reportaje.TAMARIZ Estrada, María C. Operación 23 de septiembre._medium.txt\n"
     ]
    },
    {
     "name": "stderr",
     "output_type": "stream",
     "text": [
      "5308it [00:00, 408419.69it/s]\n",
      "5308it [00:00, 1694320.06it/s]\n"
     ]
    },
    {
     "name": "stdout",
     "output_type": "stream",
     "text": [
      "loaded tuples of (corr,incorr) examples from \n",
      "###############################################\n",
      "data size: 5308\n"
     ]
    },
    {
     "name": "stderr",
     "output_type": "stream",
     "text": [
      "332it [00:09, 36.86it/s]"
     ]
    },
    {
     "name": "stdout",
     "output_type": "stream",
     "text": [
      "\n",
      "Epoch None valid_loss: 0.19255692249808443\n",
      "total inference time for this data is: 9.013583 secs\n",
      "###############################################\n",
      "\n",
      "\n",
      "total token count: 46067\n",
      "_corr2corr:35181, _corr2incorr:287, _incorr2corr:7919, _incorr2incorr:2680\n",
      "accuracy is 0.9355938090173009\n",
      "word correction rate is 0.7471459571657704\n",
      "###############################################\n"
     ]
    },
    {
     "name": "stderr",
     "output_type": "stream",
     "text": [
      "\n"
     ]
    }
   ],
   "source": [
    "clean_file=os.path.join(path,test_file+'.txt')\n",
    "corrupt_file=os.path.join(path,test_file+'_medium.txt')\n",
    "checker.evaluate(clean_file=clean_file,corrupt_file=corrupt_file)"
   ]
  },
  {
   "cell_type": "markdown",
   "id": "f8d8e1e5-1f97-4f55-bbc6-5952f77adf05",
   "metadata": {},
   "source": [
    "### High error text"
   ]
  },
  {
   "cell_type": "code",
   "execution_count": 72,
   "id": "863cc30b-9890-4624-8c28-28a3c9dba061",
   "metadata": {},
   "outputs": [
    {
     "name": "stdout",
     "output_type": "stream",
     "text": [
      " /home/jorgevargas/Data/MyFilesCNB/TESIS.LIC.reportaje.TAMARIZ Estrada, María C. Operación 23 de septiembre..txt /home/jorgevargas/Data/MyFilesCNB/TESIS.LIC.reportaje.TAMARIZ Estrada, María C. Operación 23 de septiembre._high.txt\n"
     ]
    },
    {
     "name": "stderr",
     "output_type": "stream",
     "text": [
      "5308it [00:00, 401597.59it/s]\n",
      "5308it [00:00, 1222724.39it/s]\n"
     ]
    },
    {
     "name": "stdout",
     "output_type": "stream",
     "text": [
      "loaded tuples of (corr,incorr) examples from \n",
      "###############################################\n",
      "data size: 5308\n"
     ]
    },
    {
     "name": "stderr",
     "output_type": "stream",
     "text": [
      "332it [00:09, 35.59it/s]"
     ]
    },
    {
     "name": "stdout",
     "output_type": "stream",
     "text": [
      "\n",
      "Epoch None valid_loss: 0.17636589565241584\n",
      "total inference time for this data is: 9.335030 secs\n",
      "###############################################\n",
      "\n",
      "\n",
      "total token count: 45974\n",
      "_corr2corr:32786, _corr2incorr:272, _incorr2corr:9998, _incorr2incorr:2918\n",
      "accuracy is 0.9306129551485622\n",
      "word correction rate is 0.7740786621244967\n",
      "###############################################\n"
     ]
    },
    {
     "name": "stderr",
     "output_type": "stream",
     "text": [
      "\n"
     ]
    }
   ],
   "source": [
    "clean_file=os.path.join(path,test_file+'.txt')\n",
    "corrupt_file=os.path.join(path,test_file+'_high.txt')\n",
    "checker.evaluate(clean_file=clean_file,corrupt_file=corrupt_file)"
   ]
  },
  {
   "cell_type": "markdown",
   "id": "21534244-7814-4dd3-b755-eaef9a40f2de",
   "metadata": {
    "tags": []
   },
   "source": [
    "### Bleu score"
   ]
  },
  {
   "cell_type": "code",
   "execution_count": 15,
   "id": "cca8ee96-c161-4100-8bc4-ed692d8f05d2",
   "metadata": {},
   "outputs": [],
   "source": [
    "corrections={}\n",
    "for l in ['low','medium','high']:\n",
    "    with open(os.path.join(path,test_file+'_{}'.format(l)+'_corrected.txt'),'r') as f:\n",
    "        corrections[l]=f.readlines()"
   ]
  },
  {
   "cell_type": "code",
   "execution_count": 17,
   "id": "61b67320-44e0-4cfa-b8a4-c908137c95ed",
   "metadata": {},
   "outputs": [],
   "source": [
    "candidates={}\n",
    "for level in corrections:\n",
    "  cand_level=[]\n",
    "  for line in corrections[level]:\n",
    "    cand_level.append(line.split())\n",
    "  candidates[level]=cand_level"
   ]
  },
  {
   "cell_type": "code",
   "execution_count": 29,
   "id": "cd24f05a-afce-4123-bc8b-c4010bbf6c8d",
   "metadata": {},
   "outputs": [],
   "source": [
    "references=[[line.split()] for line in tesis]"
   ]
  },
  {
   "cell_type": "code",
   "execution_count": 41,
   "id": "0e0ec7a2-e9e3-4e7f-a3db-18f71c9cb76b",
   "metadata": {},
   "outputs": [
    {
     "name": "stdout",
     "output_type": "stream",
     "text": [
      "Bleu score for low level of OCR noise:0.8793\n",
      "Bleu score for medium level of OCR noise:0.8515\n",
      "Bleu score for high level of OCR noise:0.8413\n"
     ]
    }
   ],
   "source": [
    "for level in candidates:\n",
    "  score=corpus_bleu(references,candidates[level])\n",
    "  print('Bleu score for {0} level of OCR noise:{1:0.4f}'.format(level,score))"
   ]
  },
  {
   "cell_type": "markdown",
   "id": "a58aab14-749c-49da-b85c-1c34e9f1c87d",
   "metadata": {
    "tags": []
   },
   "source": [
    "## Results"
   ]
  },
  {
   "cell_type": "markdown",
   "id": "2ba0c8b7-bd56-44a9-8ca6-af4d0b7c63d7",
   "metadata": {},
   "source": [
    "| Level of OCR error | corr2corr | corr2incorr | incorr2corr | incorr2incorr | acccuracy | word correction rate | Bleu score |\n",
    "|--------|-----------|-------------|-------------|---------------|-----------|----------------------|--------------|\n",
    "| Low    | 38082     | 308         | 5478        | 2189          | 0.9457    | 0.7144               | 0.8793       |\n",
    "| Medium | 35181     | 287         | 7919        | 2680          | 0.9355    | 0.7471               | 0.8515       |\n",
    "| High   | 32786     | 272         | 9998        | 2918          | 0.9306    | 0.7740               | 0.8413       |"
   ]
  },
  {
   "cell_type": "markdown",
   "id": "12860e25-9444-4f66-bcf0-7ff077de4af1",
   "metadata": {
    "tags": []
   },
   "source": [
    "## Conclusions"
   ]
  },
  {
   "cell_type": "markdown",
   "id": "324f0dd5-5b87-425e-99ce-9b6d783b821e",
   "metadata": {},
   "source": [
    "This model was trained on a text with a high level of OCR error. According to the results above it may be a good idea to train it on a combination of low, medium and high levels of OCR error text."
   ]
  }
 ],
 "metadata": {
  "colab": {
   "collapsed_sections": [],
   "name": "Neuspell_toolkit+BETO.ipynb",
   "provenance": []
  },
  "gpuClass": "standard",
  "kernelspec": {
   "display_name": "Python 3 (ipykernel)",
   "language": "python",
   "name": "python3"
  },
  "language_info": {
   "codemirror_mode": {
    "name": "ipython",
    "version": 3
   },
   "file_extension": ".py",
   "mimetype": "text/x-python",
   "name": "python",
   "nbconvert_exporter": "python",
   "pygments_lexer": "ipython3",
   "version": "3.10.4"
  },
  "widgets": {
   "application/vnd.jupyter.widget-state+json": {
    "0024983407714ac3b3c635a255adff8b": {
     "model_module": "@jupyter-widgets/controls",
     "model_module_version": "1.5.0",
     "model_name": "ProgressStyleModel",
     "state": {
      "_model_module": "@jupyter-widgets/controls",
      "_model_module_version": "1.5.0",
      "_model_name": "ProgressStyleModel",
      "_view_count": null,
      "_view_module": "@jupyter-widgets/base",
      "_view_module_version": "1.2.0",
      "_view_name": "StyleView",
      "bar_color": null,
      "description_width": ""
     }
    },
    "03310407e69848e8a622ed04ca4b4f8d": {
     "model_module": "@jupyter-widgets/controls",
     "model_module_version": "1.5.0",
     "model_name": "DescriptionStyleModel",
     "state": {
      "_model_module": "@jupyter-widgets/controls",
      "_model_module_version": "1.5.0",
      "_model_name": "DescriptionStyleModel",
      "_view_count": null,
      "_view_module": "@jupyter-widgets/base",
      "_view_module_version": "1.2.0",
      "_view_name": "StyleView",
      "description_width": ""
     }
    },
    "038b4f2cc69942018ca9e6e464f3996a": {
     "model_module": "@jupyter-widgets/base",
     "model_module_version": "1.2.0",
     "model_name": "LayoutModel",
     "state": {
      "_model_module": "@jupyter-widgets/base",
      "_model_module_version": "1.2.0",
      "_model_name": "LayoutModel",
      "_view_count": null,
      "_view_module": "@jupyter-widgets/base",
      "_view_module_version": "1.2.0",
      "_view_name": "LayoutView",
      "align_content": null,
      "align_items": null,
      "align_self": null,
      "border": null,
      "bottom": null,
      "display": null,
      "flex": null,
      "flex_flow": null,
      "grid_area": null,
      "grid_auto_columns": null,
      "grid_auto_flow": null,
      "grid_auto_rows": null,
      "grid_column": null,
      "grid_gap": null,
      "grid_row": null,
      "grid_template_areas": null,
      "grid_template_columns": null,
      "grid_template_rows": null,
      "height": null,
      "justify_content": null,
      "justify_items": null,
      "left": null,
      "margin": null,
      "max_height": null,
      "max_width": null,
      "min_height": null,
      "min_width": null,
      "object_fit": null,
      "object_position": null,
      "order": null,
      "overflow": null,
      "overflow_x": null,
      "overflow_y": null,
      "padding": null,
      "right": null,
      "top": null,
      "visibility": null,
      "width": null
     }
    },
    "10b487d1bd04449d8243f30318ac4bbe": {
     "model_module": "@jupyter-widgets/base",
     "model_module_version": "1.2.0",
     "model_name": "LayoutModel",
     "state": {
      "_model_module": "@jupyter-widgets/base",
      "_model_module_version": "1.2.0",
      "_model_name": "LayoutModel",
      "_view_count": null,
      "_view_module": "@jupyter-widgets/base",
      "_view_module_version": "1.2.0",
      "_view_name": "LayoutView",
      "align_content": null,
      "align_items": null,
      "align_self": null,
      "border": null,
      "bottom": null,
      "display": null,
      "flex": null,
      "flex_flow": null,
      "grid_area": null,
      "grid_auto_columns": null,
      "grid_auto_flow": null,
      "grid_auto_rows": null,
      "grid_column": null,
      "grid_gap": null,
      "grid_row": null,
      "grid_template_areas": null,
      "grid_template_columns": null,
      "grid_template_rows": null,
      "height": null,
      "justify_content": null,
      "justify_items": null,
      "left": null,
      "margin": null,
      "max_height": null,
      "max_width": null,
      "min_height": null,
      "min_width": null,
      "object_fit": null,
      "object_position": null,
      "order": null,
      "overflow": null,
      "overflow_x": null,
      "overflow_y": null,
      "padding": null,
      "right": null,
      "top": null,
      "visibility": null,
      "width": null
     }
    },
    "1312f5abce6b44cebc78ceda52c67bcf": {
     "model_module": "@jupyter-widgets/controls",
     "model_module_version": "1.5.0",
     "model_name": "HTMLModel",
     "state": {
      "_dom_classes": [],
      "_model_module": "@jupyter-widgets/controls",
      "_model_module_version": "1.5.0",
      "_model_name": "HTMLModel",
      "_view_count": null,
      "_view_module": "@jupyter-widgets/controls",
      "_view_module_version": "1.5.0",
      "_view_name": "HTMLView",
      "description": "",
      "description_tooltip": null,
      "layout": "IPY_MODEL_75153538566f447798b09093c59a21ca",
      "placeholder": "​",
      "style": "IPY_MODEL_4f30b2b179a04c1dbac8e799c189f345",
      "value": "Downloading: 100%"
     }
    },
    "1a269528ae54450fbb5d688d9fecfedf": {
     "model_module": "@jupyter-widgets/controls",
     "model_module_version": "1.5.0",
     "model_name": "ProgressStyleModel",
     "state": {
      "_model_module": "@jupyter-widgets/controls",
      "_model_module_version": "1.5.0",
      "_model_name": "ProgressStyleModel",
      "_view_count": null,
      "_view_module": "@jupyter-widgets/base",
      "_view_module_version": "1.2.0",
      "_view_name": "StyleView",
      "bar_color": null,
      "description_width": ""
     }
    },
    "1c389e39853f4065a2360069b32ff3fa": {
     "model_module": "@jupyter-widgets/controls",
     "model_module_version": "1.5.0",
     "model_name": "ProgressStyleModel",
     "state": {
      "_model_module": "@jupyter-widgets/controls",
      "_model_module_version": "1.5.0",
      "_model_name": "ProgressStyleModel",
      "_view_count": null,
      "_view_module": "@jupyter-widgets/base",
      "_view_module_version": "1.2.0",
      "_view_name": "StyleView",
      "bar_color": null,
      "description_width": ""
     }
    },
    "1d14a58bcd0e4abf87f8e80e31baa17a": {
     "model_module": "@jupyter-widgets/controls",
     "model_module_version": "1.5.0",
     "model_name": "ProgressStyleModel",
     "state": {
      "_model_module": "@jupyter-widgets/controls",
      "_model_module_version": "1.5.0",
      "_model_name": "ProgressStyleModel",
      "_view_count": null,
      "_view_module": "@jupyter-widgets/base",
      "_view_module_version": "1.2.0",
      "_view_name": "StyleView",
      "bar_color": null,
      "description_width": ""
     }
    },
    "1dc6243ba8714cdb879a93dbaf72e3c4": {
     "model_module": "@jupyter-widgets/controls",
     "model_module_version": "1.5.0",
     "model_name": "HTMLModel",
     "state": {
      "_dom_classes": [],
      "_model_module": "@jupyter-widgets/controls",
      "_model_module_version": "1.5.0",
      "_model_name": "HTMLModel",
      "_view_count": null,
      "_view_module": "@jupyter-widgets/controls",
      "_view_module_version": "1.5.0",
      "_view_name": "HTMLView",
      "description": "",
      "description_tooltip": null,
      "layout": "IPY_MODEL_fa34e23ced3c46df9b9d70e778a6924a",
      "placeholder": "​",
      "style": "IPY_MODEL_d04a21b1560743969fbfe3247ca5524c",
      "value": "Downloading: 100%"
     }
    },
    "29cfbf2e87ce46ef94418f15f1b8722f": {
     "model_module": "@jupyter-widgets/controls",
     "model_module_version": "1.5.0",
     "model_name": "FloatProgressModel",
     "state": {
      "_dom_classes": [],
      "_model_module": "@jupyter-widgets/controls",
      "_model_module_version": "1.5.0",
      "_model_name": "FloatProgressModel",
      "_view_count": null,
      "_view_module": "@jupyter-widgets/controls",
      "_view_module_version": "1.5.0",
      "_view_name": "ProgressView",
      "bar_style": "success",
      "description": "",
      "description_tooltip": null,
      "layout": "IPY_MODEL_34d3ce3f66b44ce1af1690fc33450734",
      "max": 364,
      "min": 0,
      "orientation": "horizontal",
      "style": "IPY_MODEL_8de155fd62f7476998b3756303d2ddba",
      "value": 364
     }
    },
    "2b6396aefb064ebaa2328fb66cb72f3e": {
     "model_module": "@jupyter-widgets/base",
     "model_module_version": "1.2.0",
     "model_name": "LayoutModel",
     "state": {
      "_model_module": "@jupyter-widgets/base",
      "_model_module_version": "1.2.0",
      "_model_name": "LayoutModel",
      "_view_count": null,
      "_view_module": "@jupyter-widgets/base",
      "_view_module_version": "1.2.0",
      "_view_name": "LayoutView",
      "align_content": null,
      "align_items": null,
      "align_self": null,
      "border": null,
      "bottom": null,
      "display": null,
      "flex": null,
      "flex_flow": null,
      "grid_area": null,
      "grid_auto_columns": null,
      "grid_auto_flow": null,
      "grid_auto_rows": null,
      "grid_column": null,
      "grid_gap": null,
      "grid_row": null,
      "grid_template_areas": null,
      "grid_template_columns": null,
      "grid_template_rows": null,
      "height": null,
      "justify_content": null,
      "justify_items": null,
      "left": null,
      "margin": null,
      "max_height": null,
      "max_width": null,
      "min_height": null,
      "min_width": null,
      "object_fit": null,
      "object_position": null,
      "order": null,
      "overflow": null,
      "overflow_x": null,
      "overflow_y": null,
      "padding": null,
      "right": null,
      "top": null,
      "visibility": null,
      "width": null
     }
    },
    "2d82026072594b28b8f0a269c85ee694": {
     "model_module": "@jupyter-widgets/controls",
     "model_module_version": "1.5.0",
     "model_name": "HTMLModel",
     "state": {
      "_dom_classes": [],
      "_model_module": "@jupyter-widgets/controls",
      "_model_module_version": "1.5.0",
      "_model_name": "HTMLModel",
      "_view_count": null,
      "_view_module": "@jupyter-widgets/controls",
      "_view_module_version": "1.5.0",
      "_view_name": "HTMLView",
      "description": "",
      "description_tooltip": null,
      "layout": "IPY_MODEL_e18672e893b54e169d7e3e58c28082a9",
      "placeholder": "​",
      "style": "IPY_MODEL_3355201f911140c8bcdecee6d4772589",
      "value": " 364/364 [00:00&lt;00:00, 10.7kB/s]"
     }
    },
    "2e74a1fd9d764c5fb258965a66b4b6ef": {
     "model_module": "@jupyter-widgets/base",
     "model_module_version": "1.2.0",
     "model_name": "LayoutModel",
     "state": {
      "_model_module": "@jupyter-widgets/base",
      "_model_module_version": "1.2.0",
      "_model_name": "LayoutModel",
      "_view_count": null,
      "_view_module": "@jupyter-widgets/base",
      "_view_module_version": "1.2.0",
      "_view_name": "LayoutView",
      "align_content": null,
      "align_items": null,
      "align_self": null,
      "border": null,
      "bottom": null,
      "display": null,
      "flex": null,
      "flex_flow": null,
      "grid_area": null,
      "grid_auto_columns": null,
      "grid_auto_flow": null,
      "grid_auto_rows": null,
      "grid_column": null,
      "grid_gap": null,
      "grid_row": null,
      "grid_template_areas": null,
      "grid_template_columns": null,
      "grid_template_rows": null,
      "height": null,
      "justify_content": null,
      "justify_items": null,
      "left": null,
      "margin": null,
      "max_height": null,
      "max_width": null,
      "min_height": null,
      "min_width": null,
      "object_fit": null,
      "object_position": null,
      "order": null,
      "overflow": null,
      "overflow_x": null,
      "overflow_y": null,
      "padding": null,
      "right": null,
      "top": null,
      "visibility": null,
      "width": null
     }
    },
    "2ec4ba11ab084eb8aeaebab738e1f3da": {
     "model_module": "@jupyter-widgets/controls",
     "model_module_version": "1.5.0",
     "model_name": "DescriptionStyleModel",
     "state": {
      "_model_module": "@jupyter-widgets/controls",
      "_model_module_version": "1.5.0",
      "_model_name": "DescriptionStyleModel",
      "_view_count": null,
      "_view_module": "@jupyter-widgets/base",
      "_view_module_version": "1.2.0",
      "_view_name": "StyleView",
      "description_width": ""
     }
    },
    "2f647fee8f5c4834834d4fcb5c2f67a5": {
     "model_module": "@jupyter-widgets/controls",
     "model_module_version": "1.5.0",
     "model_name": "HBoxModel",
     "state": {
      "_dom_classes": [],
      "_model_module": "@jupyter-widgets/controls",
      "_model_module_version": "1.5.0",
      "_model_name": "HBoxModel",
      "_view_count": null,
      "_view_module": "@jupyter-widgets/controls",
      "_view_module_version": "1.5.0",
      "_view_name": "HBoxView",
      "box_style": "",
      "children": [
       "IPY_MODEL_3fd87af8b2ec4f808662a904c5bc5521",
       "IPY_MODEL_863c7b300e4e456bbced34e7a9803479",
       "IPY_MODEL_a8ee52bcb47f40468f9f420cd987c27d"
      ],
      "layout": "IPY_MODEL_aeb112020d284572be0d0da4cb273b0d"
     }
    },
    "31b392e686a1460d8c2eecbb346100be": {
     "model_module": "@jupyter-widgets/controls",
     "model_module_version": "1.5.0",
     "model_name": "HBoxModel",
     "state": {
      "_dom_classes": [],
      "_model_module": "@jupyter-widgets/controls",
      "_model_module_version": "1.5.0",
      "_model_name": "HBoxModel",
      "_view_count": null,
      "_view_module": "@jupyter-widgets/controls",
      "_view_module_version": "1.5.0",
      "_view_name": "HBoxView",
      "box_style": "",
      "children": [
       "IPY_MODEL_cd215e7e90bc440ca2e75124c46a6a2d",
       "IPY_MODEL_49d9d179cfd240ed88c5cc27d4bfadf7",
       "IPY_MODEL_e68e2674c83f4e5084a879b8776af72c"
      ],
      "layout": "IPY_MODEL_038b4f2cc69942018ca9e6e464f3996a"
     }
    },
    "3314006826844d2cb8c6220193ae9f61": {
     "model_module": "@jupyter-widgets/controls",
     "model_module_version": "1.5.0",
     "model_name": "HBoxModel",
     "state": {
      "_dom_classes": [],
      "_model_module": "@jupyter-widgets/controls",
      "_model_module_version": "1.5.0",
      "_model_name": "HBoxModel",
      "_view_count": null,
      "_view_module": "@jupyter-widgets/controls",
      "_view_module_version": "1.5.0",
      "_view_name": "HBoxView",
      "box_style": "",
      "children": [
       "IPY_MODEL_e3725252a2a2441cbe65627cbc67eae8",
       "IPY_MODEL_f2f3ca13916a4e8cbffd2afc4c14a498",
       "IPY_MODEL_74851bcea00c4db7b3d98e19400d90c6"
      ],
      "layout": "IPY_MODEL_ccf3b112c476498a8b6e10e90ec27041"
     }
    },
    "332cd8e4e13f4a6082942d51d2ed851f": {
     "model_module": "@jupyter-widgets/base",
     "model_module_version": "1.2.0",
     "model_name": "LayoutModel",
     "state": {
      "_model_module": "@jupyter-widgets/base",
      "_model_module_version": "1.2.0",
      "_model_name": "LayoutModel",
      "_view_count": null,
      "_view_module": "@jupyter-widgets/base",
      "_view_module_version": "1.2.0",
      "_view_name": "LayoutView",
      "align_content": null,
      "align_items": null,
      "align_self": null,
      "border": null,
      "bottom": null,
      "display": null,
      "flex": null,
      "flex_flow": null,
      "grid_area": null,
      "grid_auto_columns": null,
      "grid_auto_flow": null,
      "grid_auto_rows": null,
      "grid_column": null,
      "grid_gap": null,
      "grid_row": null,
      "grid_template_areas": null,
      "grid_template_columns": null,
      "grid_template_rows": null,
      "height": null,
      "justify_content": null,
      "justify_items": null,
      "left": null,
      "margin": null,
      "max_height": null,
      "max_width": null,
      "min_height": null,
      "min_width": null,
      "object_fit": null,
      "object_position": null,
      "order": null,
      "overflow": null,
      "overflow_x": null,
      "overflow_y": null,
      "padding": null,
      "right": null,
      "top": null,
      "visibility": null,
      "width": null
     }
    },
    "3355201f911140c8bcdecee6d4772589": {
     "model_module": "@jupyter-widgets/controls",
     "model_module_version": "1.5.0",
     "model_name": "DescriptionStyleModel",
     "state": {
      "_model_module": "@jupyter-widgets/controls",
      "_model_module_version": "1.5.0",
      "_model_name": "DescriptionStyleModel",
      "_view_count": null,
      "_view_module": "@jupyter-widgets/base",
      "_view_module_version": "1.2.0",
      "_view_name": "StyleView",
      "description_width": ""
     }
    },
    "33909187efcd4b24af175e7a1bd4f09d": {
     "model_module": "@jupyter-widgets/base",
     "model_module_version": "1.2.0",
     "model_name": "LayoutModel",
     "state": {
      "_model_module": "@jupyter-widgets/base",
      "_model_module_version": "1.2.0",
      "_model_name": "LayoutModel",
      "_view_count": null,
      "_view_module": "@jupyter-widgets/base",
      "_view_module_version": "1.2.0",
      "_view_name": "LayoutView",
      "align_content": null,
      "align_items": null,
      "align_self": null,
      "border": null,
      "bottom": null,
      "display": null,
      "flex": null,
      "flex_flow": null,
      "grid_area": null,
      "grid_auto_columns": null,
      "grid_auto_flow": null,
      "grid_auto_rows": null,
      "grid_column": null,
      "grid_gap": null,
      "grid_row": null,
      "grid_template_areas": null,
      "grid_template_columns": null,
      "grid_template_rows": null,
      "height": null,
      "justify_content": null,
      "justify_items": null,
      "left": null,
      "margin": null,
      "max_height": null,
      "max_width": null,
      "min_height": null,
      "min_width": null,
      "object_fit": null,
      "object_position": null,
      "order": null,
      "overflow": null,
      "overflow_x": null,
      "overflow_y": null,
      "padding": null,
      "right": null,
      "top": null,
      "visibility": null,
      "width": null
     }
    },
    "34d3ce3f66b44ce1af1690fc33450734": {
     "model_module": "@jupyter-widgets/base",
     "model_module_version": "1.2.0",
     "model_name": "LayoutModel",
     "state": {
      "_model_module": "@jupyter-widgets/base",
      "_model_module_version": "1.2.0",
      "_model_name": "LayoutModel",
      "_view_count": null,
      "_view_module": "@jupyter-widgets/base",
      "_view_module_version": "1.2.0",
      "_view_name": "LayoutView",
      "align_content": null,
      "align_items": null,
      "align_self": null,
      "border": null,
      "bottom": null,
      "display": null,
      "flex": null,
      "flex_flow": null,
      "grid_area": null,
      "grid_auto_columns": null,
      "grid_auto_flow": null,
      "grid_auto_rows": null,
      "grid_column": null,
      "grid_gap": null,
      "grid_row": null,
      "grid_template_areas": null,
      "grid_template_columns": null,
      "grid_template_rows": null,
      "height": null,
      "justify_content": null,
      "justify_items": null,
      "left": null,
      "margin": null,
      "max_height": null,
      "max_width": null,
      "min_height": null,
      "min_width": null,
      "object_fit": null,
      "object_position": null,
      "order": null,
      "overflow": null,
      "overflow_x": null,
      "overflow_y": null,
      "padding": null,
      "right": null,
      "top": null,
      "visibility": null,
      "width": null
     }
    },
    "36ad409e1b7746e681e655b549612caf": {
     "model_module": "@jupyter-widgets/controls",
     "model_module_version": "1.5.0",
     "model_name": "FloatProgressModel",
     "state": {
      "_dom_classes": [],
      "_model_module": "@jupyter-widgets/controls",
      "_model_module_version": "1.5.0",
      "_model_name": "FloatProgressModel",
      "_view_count": null,
      "_view_module": "@jupyter-widgets/controls",
      "_view_module_version": "1.5.0",
      "_view_name": "ProgressView",
      "bar_style": "success",
      "description": "",
      "description_tooltip": null,
      "layout": "IPY_MODEL_6342d19b9afa47f39b178d2dc1484063",
      "max": 439621341,
      "min": 0,
      "orientation": "horizontal",
      "style": "IPY_MODEL_1d14a58bcd0e4abf87f8e80e31baa17a",
      "value": 439621341
     }
    },
    "38994c8ef54c427d855298bbcb1108fd": {
     "model_module": "@jupyter-widgets/controls",
     "model_module_version": "1.5.0",
     "model_name": "HBoxModel",
     "state": {
      "_dom_classes": [],
      "_model_module": "@jupyter-widgets/controls",
      "_model_module_version": "1.5.0",
      "_model_name": "HBoxModel",
      "_view_count": null,
      "_view_module": "@jupyter-widgets/controls",
      "_view_module_version": "1.5.0",
      "_view_name": "HBoxView",
      "box_style": "",
      "children": [
       "IPY_MODEL_78946b8982cc46d18870ec3d641adbdb",
       "IPY_MODEL_4bc2799fbc22473c98e8f4294393bde3",
       "IPY_MODEL_cce7f6676b61493e84d86649613f0e76"
      ],
      "layout": "IPY_MODEL_332cd8e4e13f4a6082942d51d2ed851f"
     }
    },
    "39b7b8caeba84f888a5ee765b5abffe2": {
     "model_module": "@jupyter-widgets/controls",
     "model_module_version": "1.5.0",
     "model_name": "DescriptionStyleModel",
     "state": {
      "_model_module": "@jupyter-widgets/controls",
      "_model_module_version": "1.5.0",
      "_model_name": "DescriptionStyleModel",
      "_view_count": null,
      "_view_module": "@jupyter-widgets/base",
      "_view_module_version": "1.2.0",
      "_view_name": "StyleView",
      "description_width": ""
     }
    },
    "3fd87af8b2ec4f808662a904c5bc5521": {
     "model_module": "@jupyter-widgets/controls",
     "model_module_version": "1.5.0",
     "model_name": "HTMLModel",
     "state": {
      "_dom_classes": [],
      "_model_module": "@jupyter-widgets/controls",
      "_model_module_version": "1.5.0",
      "_model_name": "HTMLModel",
      "_view_count": null,
      "_view_module": "@jupyter-widgets/controls",
      "_view_module_version": "1.5.0",
      "_view_name": "HTMLView",
      "description": "",
      "description_tooltip": null,
      "layout": "IPY_MODEL_e1807ac03eac47c6802341f9582dc3ab",
      "placeholder": "​",
      "style": "IPY_MODEL_2ec4ba11ab084eb8aeaebab738e1f3da",
      "value": "Downloading: 100%"
     }
    },
    "46e2ed53ffc8458385d2ab79dafe04ad": {
     "model_module": "@jupyter-widgets/base",
     "model_module_version": "1.2.0",
     "model_name": "LayoutModel",
     "state": {
      "_model_module": "@jupyter-widgets/base",
      "_model_module_version": "1.2.0",
      "_model_name": "LayoutModel",
      "_view_count": null,
      "_view_module": "@jupyter-widgets/base",
      "_view_module_version": "1.2.0",
      "_view_name": "LayoutView",
      "align_content": null,
      "align_items": null,
      "align_self": null,
      "border": null,
      "bottom": null,
      "display": null,
      "flex": null,
      "flex_flow": null,
      "grid_area": null,
      "grid_auto_columns": null,
      "grid_auto_flow": null,
      "grid_auto_rows": null,
      "grid_column": null,
      "grid_gap": null,
      "grid_row": null,
      "grid_template_areas": null,
      "grid_template_columns": null,
      "grid_template_rows": null,
      "height": null,
      "justify_content": null,
      "justify_items": null,
      "left": null,
      "margin": null,
      "max_height": null,
      "max_width": null,
      "min_height": null,
      "min_width": null,
      "object_fit": null,
      "object_position": null,
      "order": null,
      "overflow": null,
      "overflow_x": null,
      "overflow_y": null,
      "padding": null,
      "right": null,
      "top": null,
      "visibility": null,
      "width": null
     }
    },
    "476b35726c7e47cd8798452891b4a538": {
     "model_module": "@jupyter-widgets/base",
     "model_module_version": "1.2.0",
     "model_name": "LayoutModel",
     "state": {
      "_model_module": "@jupyter-widgets/base",
      "_model_module_version": "1.2.0",
      "_model_name": "LayoutModel",
      "_view_count": null,
      "_view_module": "@jupyter-widgets/base",
      "_view_module_version": "1.2.0",
      "_view_name": "LayoutView",
      "align_content": null,
      "align_items": null,
      "align_self": null,
      "border": null,
      "bottom": null,
      "display": null,
      "flex": null,
      "flex_flow": null,
      "grid_area": null,
      "grid_auto_columns": null,
      "grid_auto_flow": null,
      "grid_auto_rows": null,
      "grid_column": null,
      "grid_gap": null,
      "grid_row": null,
      "grid_template_areas": null,
      "grid_template_columns": null,
      "grid_template_rows": null,
      "height": null,
      "justify_content": null,
      "justify_items": null,
      "left": null,
      "margin": null,
      "max_height": null,
      "max_width": null,
      "min_height": null,
      "min_width": null,
      "object_fit": null,
      "object_position": null,
      "order": null,
      "overflow": null,
      "overflow_x": null,
      "overflow_y": null,
      "padding": null,
      "right": null,
      "top": null,
      "visibility": null,
      "width": null
     }
    },
    "49d9d179cfd240ed88c5cc27d4bfadf7": {
     "model_module": "@jupyter-widgets/controls",
     "model_module_version": "1.5.0",
     "model_name": "FloatProgressModel",
     "state": {
      "_dom_classes": [],
      "_model_module": "@jupyter-widgets/controls",
      "_model_module_version": "1.5.0",
      "_model_name": "FloatProgressModel",
      "_view_count": null,
      "_view_module": "@jupyter-widgets/controls",
      "_view_module_version": "1.5.0",
      "_view_name": "ProgressView",
      "bar_style": "success",
      "description": "",
      "description_tooltip": null,
      "layout": "IPY_MODEL_2b6396aefb064ebaa2328fb66cb72f3e",
      "max": 241796,
      "min": 0,
      "orientation": "horizontal",
      "style": "IPY_MODEL_6367bf2f73db4afea661f3b2ca7f8627",
      "value": 241796
     }
    },
    "4bc2799fbc22473c98e8f4294393bde3": {
     "model_module": "@jupyter-widgets/controls",
     "model_module_version": "1.5.0",
     "model_name": "FloatProgressModel",
     "state": {
      "_dom_classes": [],
      "_model_module": "@jupyter-widgets/controls",
      "_model_module_version": "1.5.0",
      "_model_name": "FloatProgressModel",
      "_view_count": null,
      "_view_module": "@jupyter-widgets/controls",
      "_view_module_version": "1.5.0",
      "_view_name": "ProgressView",
      "bar_style": "success",
      "description": "",
      "description_tooltip": null,
      "layout": "IPY_MODEL_2e74a1fd9d764c5fb258965a66b4b6ef",
      "max": 439621341,
      "min": 0,
      "orientation": "horizontal",
      "style": "IPY_MODEL_1c389e39853f4065a2360069b32ff3fa",
      "value": 439621341
     }
    },
    "4f30b2b179a04c1dbac8e799c189f345": {
     "model_module": "@jupyter-widgets/controls",
     "model_module_version": "1.5.0",
     "model_name": "DescriptionStyleModel",
     "state": {
      "_model_module": "@jupyter-widgets/controls",
      "_model_module_version": "1.5.0",
      "_model_name": "DescriptionStyleModel",
      "_view_count": null,
      "_view_module": "@jupyter-widgets/base",
      "_view_module_version": "1.2.0",
      "_view_name": "StyleView",
      "description_width": ""
     }
    },
    "5c0977b5927345559704d3e043ae29b1": {
     "model_module": "@jupyter-widgets/controls",
     "model_module_version": "1.5.0",
     "model_name": "ProgressStyleModel",
     "state": {
      "_model_module": "@jupyter-widgets/controls",
      "_model_module_version": "1.5.0",
      "_model_name": "ProgressStyleModel",
      "_view_count": null,
      "_view_module": "@jupyter-widgets/base",
      "_view_module_version": "1.2.0",
      "_view_name": "StyleView",
      "bar_color": null,
      "description_width": ""
     }
    },
    "5d0e83e81e1c4183829eff3ef34d977d": {
     "model_module": "@jupyter-widgets/controls",
     "model_module_version": "1.5.0",
     "model_name": "DescriptionStyleModel",
     "state": {
      "_model_module": "@jupyter-widgets/controls",
      "_model_module_version": "1.5.0",
      "_model_name": "DescriptionStyleModel",
      "_view_count": null,
      "_view_module": "@jupyter-widgets/base",
      "_view_module_version": "1.2.0",
      "_view_name": "StyleView",
      "description_width": ""
     }
    },
    "6133d312e7ac48ecb3a30d2394c4cc38": {
     "model_module": "@jupyter-widgets/controls",
     "model_module_version": "1.5.0",
     "model_name": "DescriptionStyleModel",
     "state": {
      "_model_module": "@jupyter-widgets/controls",
      "_model_module_version": "1.5.0",
      "_model_name": "DescriptionStyleModel",
      "_view_count": null,
      "_view_module": "@jupyter-widgets/base",
      "_view_module_version": "1.2.0",
      "_view_name": "StyleView",
      "description_width": ""
     }
    },
    "6342d19b9afa47f39b178d2dc1484063": {
     "model_module": "@jupyter-widgets/base",
     "model_module_version": "1.2.0",
     "model_name": "LayoutModel",
     "state": {
      "_model_module": "@jupyter-widgets/base",
      "_model_module_version": "1.2.0",
      "_model_name": "LayoutModel",
      "_view_count": null,
      "_view_module": "@jupyter-widgets/base",
      "_view_module_version": "1.2.0",
      "_view_name": "LayoutView",
      "align_content": null,
      "align_items": null,
      "align_self": null,
      "border": null,
      "bottom": null,
      "display": null,
      "flex": null,
      "flex_flow": null,
      "grid_area": null,
      "grid_auto_columns": null,
      "grid_auto_flow": null,
      "grid_auto_rows": null,
      "grid_column": null,
      "grid_gap": null,
      "grid_row": null,
      "grid_template_areas": null,
      "grid_template_columns": null,
      "grid_template_rows": null,
      "height": null,
      "justify_content": null,
      "justify_items": null,
      "left": null,
      "margin": null,
      "max_height": null,
      "max_width": null,
      "min_height": null,
      "min_width": null,
      "object_fit": null,
      "object_position": null,
      "order": null,
      "overflow": null,
      "overflow_x": null,
      "overflow_y": null,
      "padding": null,
      "right": null,
      "top": null,
      "visibility": null,
      "width": null
     }
    },
    "6367bf2f73db4afea661f3b2ca7f8627": {
     "model_module": "@jupyter-widgets/controls",
     "model_module_version": "1.5.0",
     "model_name": "ProgressStyleModel",
     "state": {
      "_model_module": "@jupyter-widgets/controls",
      "_model_module_version": "1.5.0",
      "_model_name": "ProgressStyleModel",
      "_view_count": null,
      "_view_module": "@jupyter-widgets/base",
      "_view_module_version": "1.2.0",
      "_view_name": "StyleView",
      "bar_color": null,
      "description_width": ""
     }
    },
    "6398341a13c347d49a018279c107180c": {
     "model_module": "@jupyter-widgets/base",
     "model_module_version": "1.2.0",
     "model_name": "LayoutModel",
     "state": {
      "_model_module": "@jupyter-widgets/base",
      "_model_module_version": "1.2.0",
      "_model_name": "LayoutModel",
      "_view_count": null,
      "_view_module": "@jupyter-widgets/base",
      "_view_module_version": "1.2.0",
      "_view_name": "LayoutView",
      "align_content": null,
      "align_items": null,
      "align_self": null,
      "border": null,
      "bottom": null,
      "display": null,
      "flex": null,
      "flex_flow": null,
      "grid_area": null,
      "grid_auto_columns": null,
      "grid_auto_flow": null,
      "grid_auto_rows": null,
      "grid_column": null,
      "grid_gap": null,
      "grid_row": null,
      "grid_template_areas": null,
      "grid_template_columns": null,
      "grid_template_rows": null,
      "height": null,
      "justify_content": null,
      "justify_items": null,
      "left": null,
      "margin": null,
      "max_height": null,
      "max_width": null,
      "min_height": null,
      "min_width": null,
      "object_fit": null,
      "object_position": null,
      "order": null,
      "overflow": null,
      "overflow_x": null,
      "overflow_y": null,
      "padding": null,
      "right": null,
      "top": null,
      "visibility": null,
      "width": null
     }
    },
    "668736183a3742a9bef90918d253f9b8": {
     "model_module": "@jupyter-widgets/controls",
     "model_module_version": "1.5.0",
     "model_name": "HTMLModel",
     "state": {
      "_dom_classes": [],
      "_model_module": "@jupyter-widgets/controls",
      "_model_module_version": "1.5.0",
      "_model_name": "HTMLModel",
      "_view_count": null,
      "_view_module": "@jupyter-widgets/controls",
      "_view_module_version": "1.5.0",
      "_view_name": "HTMLView",
      "description": "",
      "description_tooltip": null,
      "layout": "IPY_MODEL_77a2c62d8a364a05a3f6934e001c6a92",
      "placeholder": "​",
      "style": "IPY_MODEL_eb89e887d1ec419dac17f086a6ded7a9",
      "value": "Downloading: 100%"
     }
    },
    "74851bcea00c4db7b3d98e19400d90c6": {
     "model_module": "@jupyter-widgets/controls",
     "model_module_version": "1.5.0",
     "model_name": "HTMLModel",
     "state": {
      "_dom_classes": [],
      "_model_module": "@jupyter-widgets/controls",
      "_model_module_version": "1.5.0",
      "_model_name": "HTMLModel",
      "_view_count": null,
      "_view_module": "@jupyter-widgets/controls",
      "_view_module_version": "1.5.0",
      "_view_name": "HTMLView",
      "description": "",
      "description_tooltip": null,
      "layout": "IPY_MODEL_cb040b968a324c6f983ea1d3f3a81cbe",
      "placeholder": "​",
      "style": "IPY_MODEL_39b7b8caeba84f888a5ee765b5abffe2",
      "value": " 134/134 [00:00&lt;00:00, 4.27kB/s]"
     }
    },
    "75153538566f447798b09093c59a21ca": {
     "model_module": "@jupyter-widgets/base",
     "model_module_version": "1.2.0",
     "model_name": "LayoutModel",
     "state": {
      "_model_module": "@jupyter-widgets/base",
      "_model_module_version": "1.2.0",
      "_model_name": "LayoutModel",
      "_view_count": null,
      "_view_module": "@jupyter-widgets/base",
      "_view_module_version": "1.2.0",
      "_view_name": "LayoutView",
      "align_content": null,
      "align_items": null,
      "align_self": null,
      "border": null,
      "bottom": null,
      "display": null,
      "flex": null,
      "flex_flow": null,
      "grid_area": null,
      "grid_auto_columns": null,
      "grid_auto_flow": null,
      "grid_auto_rows": null,
      "grid_column": null,
      "grid_gap": null,
      "grid_row": null,
      "grid_template_areas": null,
      "grid_template_columns": null,
      "grid_template_rows": null,
      "height": null,
      "justify_content": null,
      "justify_items": null,
      "left": null,
      "margin": null,
      "max_height": null,
      "max_width": null,
      "min_height": null,
      "min_width": null,
      "object_fit": null,
      "object_position": null,
      "order": null,
      "overflow": null,
      "overflow_x": null,
      "overflow_y": null,
      "padding": null,
      "right": null,
      "top": null,
      "visibility": null,
      "width": null
     }
    },
    "77a2c62d8a364a05a3f6934e001c6a92": {
     "model_module": "@jupyter-widgets/base",
     "model_module_version": "1.2.0",
     "model_name": "LayoutModel",
     "state": {
      "_model_module": "@jupyter-widgets/base",
      "_model_module_version": "1.2.0",
      "_model_name": "LayoutModel",
      "_view_count": null,
      "_view_module": "@jupyter-widgets/base",
      "_view_module_version": "1.2.0",
      "_view_name": "LayoutView",
      "align_content": null,
      "align_items": null,
      "align_self": null,
      "border": null,
      "bottom": null,
      "display": null,
      "flex": null,
      "flex_flow": null,
      "grid_area": null,
      "grid_auto_columns": null,
      "grid_auto_flow": null,
      "grid_auto_rows": null,
      "grid_column": null,
      "grid_gap": null,
      "grid_row": null,
      "grid_template_areas": null,
      "grid_template_columns": null,
      "grid_template_rows": null,
      "height": null,
      "justify_content": null,
      "justify_items": null,
      "left": null,
      "margin": null,
      "max_height": null,
      "max_width": null,
      "min_height": null,
      "min_width": null,
      "object_fit": null,
      "object_position": null,
      "order": null,
      "overflow": null,
      "overflow_x": null,
      "overflow_y": null,
      "padding": null,
      "right": null,
      "top": null,
      "visibility": null,
      "width": null
     }
    },
    "78946b8982cc46d18870ec3d641adbdb": {
     "model_module": "@jupyter-widgets/controls",
     "model_module_version": "1.5.0",
     "model_name": "HTMLModel",
     "state": {
      "_dom_classes": [],
      "_model_module": "@jupyter-widgets/controls",
      "_model_module_version": "1.5.0",
      "_model_name": "HTMLModel",
      "_view_count": null,
      "_view_module": "@jupyter-widgets/controls",
      "_view_module_version": "1.5.0",
      "_view_name": "HTMLView",
      "description": "",
      "description_tooltip": null,
      "layout": "IPY_MODEL_b5f06061ff1a483a905338b58e8ac86a",
      "placeholder": "​",
      "style": "IPY_MODEL_03310407e69848e8a622ed04ca4b4f8d",
      "value": "Downloading: 100%"
     }
    },
    "79b08ba32b094968a585a3dcc083ca2e": {
     "model_module": "@jupyter-widgets/base",
     "model_module_version": "1.2.0",
     "model_name": "LayoutModel",
     "state": {
      "_model_module": "@jupyter-widgets/base",
      "_model_module_version": "1.2.0",
      "_model_name": "LayoutModel",
      "_view_count": null,
      "_view_module": "@jupyter-widgets/base",
      "_view_module_version": "1.2.0",
      "_view_name": "LayoutView",
      "align_content": null,
      "align_items": null,
      "align_self": null,
      "border": null,
      "bottom": null,
      "display": null,
      "flex": null,
      "flex_flow": null,
      "grid_area": null,
      "grid_auto_columns": null,
      "grid_auto_flow": null,
      "grid_auto_rows": null,
      "grid_column": null,
      "grid_gap": null,
      "grid_row": null,
      "grid_template_areas": null,
      "grid_template_columns": null,
      "grid_template_rows": null,
      "height": null,
      "justify_content": null,
      "justify_items": null,
      "left": null,
      "margin": null,
      "max_height": null,
      "max_width": null,
      "min_height": null,
      "min_width": null,
      "object_fit": null,
      "object_position": null,
      "order": null,
      "overflow": null,
      "overflow_x": null,
      "overflow_y": null,
      "padding": null,
      "right": null,
      "top": null,
      "visibility": null,
      "width": null
     }
    },
    "8054698a5bc24e3abe0011090d8520a1": {
     "model_module": "@jupyter-widgets/controls",
     "model_module_version": "1.5.0",
     "model_name": "DescriptionStyleModel",
     "state": {
      "_model_module": "@jupyter-widgets/controls",
      "_model_module_version": "1.5.0",
      "_model_name": "DescriptionStyleModel",
      "_view_count": null,
      "_view_module": "@jupyter-widgets/base",
      "_view_module_version": "1.2.0",
      "_view_name": "StyleView",
      "description_width": ""
     }
    },
    "863c7b300e4e456bbced34e7a9803479": {
     "model_module": "@jupyter-widgets/controls",
     "model_module_version": "1.5.0",
     "model_name": "FloatProgressModel",
     "state": {
      "_dom_classes": [],
      "_model_module": "@jupyter-widgets/controls",
      "_model_module_version": "1.5.0",
      "_model_name": "FloatProgressModel",
      "_view_count": null,
      "_view_module": "@jupyter-widgets/controls",
      "_view_module_version": "1.5.0",
      "_view_name": "ProgressView",
      "bar_style": "success",
      "description": "",
      "description_tooltip": null,
      "layout": "IPY_MODEL_10b487d1bd04449d8243f30318ac4bbe",
      "max": 648,
      "min": 0,
      "orientation": "horizontal",
      "style": "IPY_MODEL_5c0977b5927345559704d3e043ae29b1",
      "value": 648
     }
    },
    "88c9103d96b44e0fa4ab90ffaf18d244": {
     "model_module": "@jupyter-widgets/controls",
     "model_module_version": "1.5.0",
     "model_name": "FloatProgressModel",
     "state": {
      "_dom_classes": [],
      "_model_module": "@jupyter-widgets/controls",
      "_model_module_version": "1.5.0",
      "_model_name": "FloatProgressModel",
      "_view_count": null,
      "_view_module": "@jupyter-widgets/controls",
      "_view_module_version": "1.5.0",
      "_view_name": "ProgressView",
      "bar_style": "success",
      "description": "",
      "description_tooltip": null,
      "layout": "IPY_MODEL_eafb9fac4a6043eab52abcb61b927434",
      "max": 648,
      "min": 0,
      "orientation": "horizontal",
      "style": "IPY_MODEL_1a269528ae54450fbb5d688d9fecfedf",
      "value": 648
     }
    },
    "8de155fd62f7476998b3756303d2ddba": {
     "model_module": "@jupyter-widgets/controls",
     "model_module_version": "1.5.0",
     "model_name": "ProgressStyleModel",
     "state": {
      "_model_module": "@jupyter-widgets/controls",
      "_model_module_version": "1.5.0",
      "_model_name": "ProgressStyleModel",
      "_view_count": null,
      "_view_module": "@jupyter-widgets/base",
      "_view_module_version": "1.2.0",
      "_view_name": "StyleView",
      "bar_color": null,
      "description_width": ""
     }
    },
    "8e6adef2f1e444aba8f6c6890c1c6859": {
     "model_module": "@jupyter-widgets/base",
     "model_module_version": "1.2.0",
     "model_name": "LayoutModel",
     "state": {
      "_model_module": "@jupyter-widgets/base",
      "_model_module_version": "1.2.0",
      "_model_name": "LayoutModel",
      "_view_count": null,
      "_view_module": "@jupyter-widgets/base",
      "_view_module_version": "1.2.0",
      "_view_name": "LayoutView",
      "align_content": null,
      "align_items": null,
      "align_self": null,
      "border": null,
      "bottom": null,
      "display": null,
      "flex": null,
      "flex_flow": null,
      "grid_area": null,
      "grid_auto_columns": null,
      "grid_auto_flow": null,
      "grid_auto_rows": null,
      "grid_column": null,
      "grid_gap": null,
      "grid_row": null,
      "grid_template_areas": null,
      "grid_template_columns": null,
      "grid_template_rows": null,
      "height": null,
      "justify_content": null,
      "justify_items": null,
      "left": null,
      "margin": null,
      "max_height": null,
      "max_width": null,
      "min_height": null,
      "min_width": null,
      "object_fit": null,
      "object_position": null,
      "order": null,
      "overflow": null,
      "overflow_x": null,
      "overflow_y": null,
      "padding": null,
      "right": null,
      "top": null,
      "visibility": null,
      "width": null
     }
    },
    "91ffd2e8f638459ab6c29ff69d4036ba": {
     "model_module": "@jupyter-widgets/controls",
     "model_module_version": "1.5.0",
     "model_name": "HBoxModel",
     "state": {
      "_dom_classes": [],
      "_model_module": "@jupyter-widgets/controls",
      "_model_module_version": "1.5.0",
      "_model_name": "HBoxModel",
      "_view_count": null,
      "_view_module": "@jupyter-widgets/controls",
      "_view_module_version": "1.5.0",
      "_view_name": "HBoxView",
      "box_style": "",
      "children": [
       "IPY_MODEL_1312f5abce6b44cebc78ceda52c67bcf",
       "IPY_MODEL_29cfbf2e87ce46ef94418f15f1b8722f",
       "IPY_MODEL_2d82026072594b28b8f0a269c85ee694"
      ],
      "layout": "IPY_MODEL_b4666043075f4f8aa67bd2ea5554aca0"
     }
    },
    "96ca613cc4d1465898e5aa21e31d82a5": {
     "model_module": "@jupyter-widgets/controls",
     "model_module_version": "1.5.0",
     "model_name": "DescriptionStyleModel",
     "state": {
      "_model_module": "@jupyter-widgets/controls",
      "_model_module_version": "1.5.0",
      "_model_name": "DescriptionStyleModel",
      "_view_count": null,
      "_view_module": "@jupyter-widgets/base",
      "_view_module_version": "1.2.0",
      "_view_name": "StyleView",
      "description_width": ""
     }
    },
    "a8ee52bcb47f40468f9f420cd987c27d": {
     "model_module": "@jupyter-widgets/controls",
     "model_module_version": "1.5.0",
     "model_name": "HTMLModel",
     "state": {
      "_dom_classes": [],
      "_model_module": "@jupyter-widgets/controls",
      "_model_module_version": "1.5.0",
      "_model_name": "HTMLModel",
      "_view_count": null,
      "_view_module": "@jupyter-widgets/controls",
      "_view_module_version": "1.5.0",
      "_view_name": "HTMLView",
      "description": "",
      "description_tooltip": null,
      "layout": "IPY_MODEL_6398341a13c347d49a018279c107180c",
      "placeholder": "​",
      "style": "IPY_MODEL_5d0e83e81e1c4183829eff3ef34d977d",
      "value": " 648/648 [00:00&lt;00:00, 19.3kB/s]"
     }
    },
    "aeb112020d284572be0d0da4cb273b0d": {
     "model_module": "@jupyter-widgets/base",
     "model_module_version": "1.2.0",
     "model_name": "LayoutModel",
     "state": {
      "_model_module": "@jupyter-widgets/base",
      "_model_module_version": "1.2.0",
      "_model_name": "LayoutModel",
      "_view_count": null,
      "_view_module": "@jupyter-widgets/base",
      "_view_module_version": "1.2.0",
      "_view_name": "LayoutView",
      "align_content": null,
      "align_items": null,
      "align_self": null,
      "border": null,
      "bottom": null,
      "display": null,
      "flex": null,
      "flex_flow": null,
      "grid_area": null,
      "grid_auto_columns": null,
      "grid_auto_flow": null,
      "grid_auto_rows": null,
      "grid_column": null,
      "grid_gap": null,
      "grid_row": null,
      "grid_template_areas": null,
      "grid_template_columns": null,
      "grid_template_rows": null,
      "height": null,
      "justify_content": null,
      "justify_items": null,
      "left": null,
      "margin": null,
      "max_height": null,
      "max_width": null,
      "min_height": null,
      "min_width": null,
      "object_fit": null,
      "object_position": null,
      "order": null,
      "overflow": null,
      "overflow_x": null,
      "overflow_y": null,
      "padding": null,
      "right": null,
      "top": null,
      "visibility": null,
      "width": null
     }
    },
    "b4666043075f4f8aa67bd2ea5554aca0": {
     "model_module": "@jupyter-widgets/base",
     "model_module_version": "1.2.0",
     "model_name": "LayoutModel",
     "state": {
      "_model_module": "@jupyter-widgets/base",
      "_model_module_version": "1.2.0",
      "_model_name": "LayoutModel",
      "_view_count": null,
      "_view_module": "@jupyter-widgets/base",
      "_view_module_version": "1.2.0",
      "_view_name": "LayoutView",
      "align_content": null,
      "align_items": null,
      "align_self": null,
      "border": null,
      "bottom": null,
      "display": null,
      "flex": null,
      "flex_flow": null,
      "grid_area": null,
      "grid_auto_columns": null,
      "grid_auto_flow": null,
      "grid_auto_rows": null,
      "grid_column": null,
      "grid_gap": null,
      "grid_row": null,
      "grid_template_areas": null,
      "grid_template_columns": null,
      "grid_template_rows": null,
      "height": null,
      "justify_content": null,
      "justify_items": null,
      "left": null,
      "margin": null,
      "max_height": null,
      "max_width": null,
      "min_height": null,
      "min_width": null,
      "object_fit": null,
      "object_position": null,
      "order": null,
      "overflow": null,
      "overflow_x": null,
      "overflow_y": null,
      "padding": null,
      "right": null,
      "top": null,
      "visibility": null,
      "width": null
     }
    },
    "b5f06061ff1a483a905338b58e8ac86a": {
     "model_module": "@jupyter-widgets/base",
     "model_module_version": "1.2.0",
     "model_name": "LayoutModel",
     "state": {
      "_model_module": "@jupyter-widgets/base",
      "_model_module_version": "1.2.0",
      "_model_name": "LayoutModel",
      "_view_count": null,
      "_view_module": "@jupyter-widgets/base",
      "_view_module_version": "1.2.0",
      "_view_name": "LayoutView",
      "align_content": null,
      "align_items": null,
      "align_self": null,
      "border": null,
      "bottom": null,
      "display": null,
      "flex": null,
      "flex_flow": null,
      "grid_area": null,
      "grid_auto_columns": null,
      "grid_auto_flow": null,
      "grid_auto_rows": null,
      "grid_column": null,
      "grid_gap": null,
      "grid_row": null,
      "grid_template_areas": null,
      "grid_template_columns": null,
      "grid_template_rows": null,
      "height": null,
      "justify_content": null,
      "justify_items": null,
      "left": null,
      "margin": null,
      "max_height": null,
      "max_width": null,
      "min_height": null,
      "min_width": null,
      "object_fit": null,
      "object_position": null,
      "order": null,
      "overflow": null,
      "overflow_x": null,
      "overflow_y": null,
      "padding": null,
      "right": null,
      "top": null,
      "visibility": null,
      "width": null
     }
    },
    "bc087fd7b80a435b9c0acf30e214f41b": {
     "model_module": "@jupyter-widgets/base",
     "model_module_version": "1.2.0",
     "model_name": "LayoutModel",
     "state": {
      "_model_module": "@jupyter-widgets/base",
      "_model_module_version": "1.2.0",
      "_model_name": "LayoutModel",
      "_view_count": null,
      "_view_module": "@jupyter-widgets/base",
      "_view_module_version": "1.2.0",
      "_view_name": "LayoutView",
      "align_content": null,
      "align_items": null,
      "align_self": null,
      "border": null,
      "bottom": null,
      "display": null,
      "flex": null,
      "flex_flow": null,
      "grid_area": null,
      "grid_auto_columns": null,
      "grid_auto_flow": null,
      "grid_auto_rows": null,
      "grid_column": null,
      "grid_gap": null,
      "grid_row": null,
      "grid_template_areas": null,
      "grid_template_columns": null,
      "grid_template_rows": null,
      "height": null,
      "justify_content": null,
      "justify_items": null,
      "left": null,
      "margin": null,
      "max_height": null,
      "max_width": null,
      "min_height": null,
      "min_width": null,
      "object_fit": null,
      "object_position": null,
      "order": null,
      "overflow": null,
      "overflow_x": null,
      "overflow_y": null,
      "padding": null,
      "right": null,
      "top": null,
      "visibility": null,
      "width": null
     }
    },
    "bdc5ea52f49e4b62829eac6e14015dad": {
     "model_module": "@jupyter-widgets/base",
     "model_module_version": "1.2.0",
     "model_name": "LayoutModel",
     "state": {
      "_model_module": "@jupyter-widgets/base",
      "_model_module_version": "1.2.0",
      "_model_name": "LayoutModel",
      "_view_count": null,
      "_view_module": "@jupyter-widgets/base",
      "_view_module_version": "1.2.0",
      "_view_name": "LayoutView",
      "align_content": null,
      "align_items": null,
      "align_self": null,
      "border": null,
      "bottom": null,
      "display": null,
      "flex": null,
      "flex_flow": null,
      "grid_area": null,
      "grid_auto_columns": null,
      "grid_auto_flow": null,
      "grid_auto_rows": null,
      "grid_column": null,
      "grid_gap": null,
      "grid_row": null,
      "grid_template_areas": null,
      "grid_template_columns": null,
      "grid_template_rows": null,
      "height": null,
      "justify_content": null,
      "justify_items": null,
      "left": null,
      "margin": null,
      "max_height": null,
      "max_width": null,
      "min_height": null,
      "min_width": null,
      "object_fit": null,
      "object_position": null,
      "order": null,
      "overflow": null,
      "overflow_x": null,
      "overflow_y": null,
      "padding": null,
      "right": null,
      "top": null,
      "visibility": null,
      "width": null
     }
    },
    "c516e95e88ec4b7aaf93486031d9f2e5": {
     "model_module": "@jupyter-widgets/base",
     "model_module_version": "1.2.0",
     "model_name": "LayoutModel",
     "state": {
      "_model_module": "@jupyter-widgets/base",
      "_model_module_version": "1.2.0",
      "_model_name": "LayoutModel",
      "_view_count": null,
      "_view_module": "@jupyter-widgets/base",
      "_view_module_version": "1.2.0",
      "_view_name": "LayoutView",
      "align_content": null,
      "align_items": null,
      "align_self": null,
      "border": null,
      "bottom": null,
      "display": null,
      "flex": null,
      "flex_flow": null,
      "grid_area": null,
      "grid_auto_columns": null,
      "grid_auto_flow": null,
      "grid_auto_rows": null,
      "grid_column": null,
      "grid_gap": null,
      "grid_row": null,
      "grid_template_areas": null,
      "grid_template_columns": null,
      "grid_template_rows": null,
      "height": null,
      "justify_content": null,
      "justify_items": null,
      "left": null,
      "margin": null,
      "max_height": null,
      "max_width": null,
      "min_height": null,
      "min_width": null,
      "object_fit": null,
      "object_position": null,
      "order": null,
      "overflow": null,
      "overflow_x": null,
      "overflow_y": null,
      "padding": null,
      "right": null,
      "top": null,
      "visibility": null,
      "width": null
     }
    },
    "cab7cbcac3134fdf927f5426e7731fd3": {
     "model_module": "@jupyter-widgets/controls",
     "model_module_version": "1.5.0",
     "model_name": "HTMLModel",
     "state": {
      "_dom_classes": [],
      "_model_module": "@jupyter-widgets/controls",
      "_model_module_version": "1.5.0",
      "_model_name": "HTMLModel",
      "_view_count": null,
      "_view_module": "@jupyter-widgets/controls",
      "_view_module_version": "1.5.0",
      "_view_name": "HTMLView",
      "description": "",
      "description_tooltip": null,
      "layout": "IPY_MODEL_bdc5ea52f49e4b62829eac6e14015dad",
      "placeholder": "​",
      "style": "IPY_MODEL_e3a661db9a1d49b8be2df4406f4c95ef",
      "value": " 648/648 [00:00&lt;00:00, 17.0kB/s]"
     }
    },
    "cb040b968a324c6f983ea1d3f3a81cbe": {
     "model_module": "@jupyter-widgets/base",
     "model_module_version": "1.2.0",
     "model_name": "LayoutModel",
     "state": {
      "_model_module": "@jupyter-widgets/base",
      "_model_module_version": "1.2.0",
      "_model_name": "LayoutModel",
      "_view_count": null,
      "_view_module": "@jupyter-widgets/base",
      "_view_module_version": "1.2.0",
      "_view_name": "LayoutView",
      "align_content": null,
      "align_items": null,
      "align_self": null,
      "border": null,
      "bottom": null,
      "display": null,
      "flex": null,
      "flex_flow": null,
      "grid_area": null,
      "grid_auto_columns": null,
      "grid_auto_flow": null,
      "grid_auto_rows": null,
      "grid_column": null,
      "grid_gap": null,
      "grid_row": null,
      "grid_template_areas": null,
      "grid_template_columns": null,
      "grid_template_rows": null,
      "height": null,
      "justify_content": null,
      "justify_items": null,
      "left": null,
      "margin": null,
      "max_height": null,
      "max_width": null,
      "min_height": null,
      "min_width": null,
      "object_fit": null,
      "object_position": null,
      "order": null,
      "overflow": null,
      "overflow_x": null,
      "overflow_y": null,
      "padding": null,
      "right": null,
      "top": null,
      "visibility": null,
      "width": null
     }
    },
    "cce7f6676b61493e84d86649613f0e76": {
     "model_module": "@jupyter-widgets/controls",
     "model_module_version": "1.5.0",
     "model_name": "HTMLModel",
     "state": {
      "_dom_classes": [],
      "_model_module": "@jupyter-widgets/controls",
      "_model_module_version": "1.5.0",
      "_model_name": "HTMLModel",
      "_view_count": null,
      "_view_module": "@jupyter-widgets/controls",
      "_view_module_version": "1.5.0",
      "_view_name": "HTMLView",
      "description": "",
      "description_tooltip": null,
      "layout": "IPY_MODEL_bc087fd7b80a435b9c0acf30e214f41b",
      "placeholder": "​",
      "style": "IPY_MODEL_96ca613cc4d1465898e5aa21e31d82a5",
      "value": " 419M/419M [00:09&lt;00:00, 42.9MB/s]"
     }
    },
    "ccf3b112c476498a8b6e10e90ec27041": {
     "model_module": "@jupyter-widgets/base",
     "model_module_version": "1.2.0",
     "model_name": "LayoutModel",
     "state": {
      "_model_module": "@jupyter-widgets/base",
      "_model_module_version": "1.2.0",
      "_model_name": "LayoutModel",
      "_view_count": null,
      "_view_module": "@jupyter-widgets/base",
      "_view_module_version": "1.2.0",
      "_view_name": "LayoutView",
      "align_content": null,
      "align_items": null,
      "align_self": null,
      "border": null,
      "bottom": null,
      "display": null,
      "flex": null,
      "flex_flow": null,
      "grid_area": null,
      "grid_auto_columns": null,
      "grid_auto_flow": null,
      "grid_auto_rows": null,
      "grid_column": null,
      "grid_gap": null,
      "grid_row": null,
      "grid_template_areas": null,
      "grid_template_columns": null,
      "grid_template_rows": null,
      "height": null,
      "justify_content": null,
      "justify_items": null,
      "left": null,
      "margin": null,
      "max_height": null,
      "max_width": null,
      "min_height": null,
      "min_width": null,
      "object_fit": null,
      "object_position": null,
      "order": null,
      "overflow": null,
      "overflow_x": null,
      "overflow_y": null,
      "padding": null,
      "right": null,
      "top": null,
      "visibility": null,
      "width": null
     }
    },
    "cd215e7e90bc440ca2e75124c46a6a2d": {
     "model_module": "@jupyter-widgets/controls",
     "model_module_version": "1.5.0",
     "model_name": "HTMLModel",
     "state": {
      "_dom_classes": [],
      "_model_module": "@jupyter-widgets/controls",
      "_model_module_version": "1.5.0",
      "_model_name": "HTMLModel",
      "_view_count": null,
      "_view_module": "@jupyter-widgets/controls",
      "_view_module_version": "1.5.0",
      "_view_name": "HTMLView",
      "description": "",
      "description_tooltip": null,
      "layout": "IPY_MODEL_79b08ba32b094968a585a3dcc083ca2e",
      "placeholder": "​",
      "style": "IPY_MODEL_6133d312e7ac48ecb3a30d2394c4cc38",
      "value": "Downloading: 100%"
     }
    },
    "d04a21b1560743969fbfe3247ca5524c": {
     "model_module": "@jupyter-widgets/controls",
     "model_module_version": "1.5.0",
     "model_name": "DescriptionStyleModel",
     "state": {
      "_model_module": "@jupyter-widgets/controls",
      "_model_module_version": "1.5.0",
      "_model_name": "DescriptionStyleModel",
      "_view_count": null,
      "_view_module": "@jupyter-widgets/base",
      "_view_module_version": "1.2.0",
      "_view_name": "StyleView",
      "description_width": ""
     }
    },
    "d34cab69cf244464aaf71d8ef5112e83": {
     "model_module": "@jupyter-widgets/controls",
     "model_module_version": "1.5.0",
     "model_name": "DescriptionStyleModel",
     "state": {
      "_model_module": "@jupyter-widgets/controls",
      "_model_module_version": "1.5.0",
      "_model_name": "DescriptionStyleModel",
      "_view_count": null,
      "_view_module": "@jupyter-widgets/base",
      "_view_module_version": "1.2.0",
      "_view_name": "StyleView",
      "description_width": ""
     }
    },
    "d60779bcd28640e79bbfec8ce3dee9ab": {
     "model_module": "@jupyter-widgets/controls",
     "model_module_version": "1.5.0",
     "model_name": "HBoxModel",
     "state": {
      "_dom_classes": [],
      "_model_module": "@jupyter-widgets/controls",
      "_model_module_version": "1.5.0",
      "_model_name": "HBoxModel",
      "_view_count": null,
      "_view_module": "@jupyter-widgets/controls",
      "_view_module_version": "1.5.0",
      "_view_name": "HBoxView",
      "box_style": "",
      "children": [
       "IPY_MODEL_1dc6243ba8714cdb879a93dbaf72e3c4",
       "IPY_MODEL_36ad409e1b7746e681e655b549612caf",
       "IPY_MODEL_d974739527fb445eaba8e869313d86f6"
      ],
      "layout": "IPY_MODEL_8e6adef2f1e444aba8f6c6890c1c6859"
     }
    },
    "d8000688eed94fdd83891fb72530531e": {
     "model_module": "@jupyter-widgets/base",
     "model_module_version": "1.2.0",
     "model_name": "LayoutModel",
     "state": {
      "_model_module": "@jupyter-widgets/base",
      "_model_module_version": "1.2.0",
      "_model_name": "LayoutModel",
      "_view_count": null,
      "_view_module": "@jupyter-widgets/base",
      "_view_module_version": "1.2.0",
      "_view_name": "LayoutView",
      "align_content": null,
      "align_items": null,
      "align_self": null,
      "border": null,
      "bottom": null,
      "display": null,
      "flex": null,
      "flex_flow": null,
      "grid_area": null,
      "grid_auto_columns": null,
      "grid_auto_flow": null,
      "grid_auto_rows": null,
      "grid_column": null,
      "grid_gap": null,
      "grid_row": null,
      "grid_template_areas": null,
      "grid_template_columns": null,
      "grid_template_rows": null,
      "height": null,
      "justify_content": null,
      "justify_items": null,
      "left": null,
      "margin": null,
      "max_height": null,
      "max_width": null,
      "min_height": null,
      "min_width": null,
      "object_fit": null,
      "object_position": null,
      "order": null,
      "overflow": null,
      "overflow_x": null,
      "overflow_y": null,
      "padding": null,
      "right": null,
      "top": null,
      "visibility": null,
      "width": null
     }
    },
    "d974739527fb445eaba8e869313d86f6": {
     "model_module": "@jupyter-widgets/controls",
     "model_module_version": "1.5.0",
     "model_name": "HTMLModel",
     "state": {
      "_dom_classes": [],
      "_model_module": "@jupyter-widgets/controls",
      "_model_module_version": "1.5.0",
      "_model_name": "HTMLModel",
      "_view_count": null,
      "_view_module": "@jupyter-widgets/controls",
      "_view_module_version": "1.5.0",
      "_view_name": "HTMLView",
      "description": "",
      "description_tooltip": null,
      "layout": "IPY_MODEL_476b35726c7e47cd8798452891b4a538",
      "placeholder": "​",
      "style": "IPY_MODEL_8054698a5bc24e3abe0011090d8520a1",
      "value": " 419M/419M [00:07&lt;00:00, 57.3MB/s]"
     }
    },
    "e1807ac03eac47c6802341f9582dc3ab": {
     "model_module": "@jupyter-widgets/base",
     "model_module_version": "1.2.0",
     "model_name": "LayoutModel",
     "state": {
      "_model_module": "@jupyter-widgets/base",
      "_model_module_version": "1.2.0",
      "_model_name": "LayoutModel",
      "_view_count": null,
      "_view_module": "@jupyter-widgets/base",
      "_view_module_version": "1.2.0",
      "_view_name": "LayoutView",
      "align_content": null,
      "align_items": null,
      "align_self": null,
      "border": null,
      "bottom": null,
      "display": null,
      "flex": null,
      "flex_flow": null,
      "grid_area": null,
      "grid_auto_columns": null,
      "grid_auto_flow": null,
      "grid_auto_rows": null,
      "grid_column": null,
      "grid_gap": null,
      "grid_row": null,
      "grid_template_areas": null,
      "grid_template_columns": null,
      "grid_template_rows": null,
      "height": null,
      "justify_content": null,
      "justify_items": null,
      "left": null,
      "margin": null,
      "max_height": null,
      "max_width": null,
      "min_height": null,
      "min_width": null,
      "object_fit": null,
      "object_position": null,
      "order": null,
      "overflow": null,
      "overflow_x": null,
      "overflow_y": null,
      "padding": null,
      "right": null,
      "top": null,
      "visibility": null,
      "width": null
     }
    },
    "e18672e893b54e169d7e3e58c28082a9": {
     "model_module": "@jupyter-widgets/base",
     "model_module_version": "1.2.0",
     "model_name": "LayoutModel",
     "state": {
      "_model_module": "@jupyter-widgets/base",
      "_model_module_version": "1.2.0",
      "_model_name": "LayoutModel",
      "_view_count": null,
      "_view_module": "@jupyter-widgets/base",
      "_view_module_version": "1.2.0",
      "_view_name": "LayoutView",
      "align_content": null,
      "align_items": null,
      "align_self": null,
      "border": null,
      "bottom": null,
      "display": null,
      "flex": null,
      "flex_flow": null,
      "grid_area": null,
      "grid_auto_columns": null,
      "grid_auto_flow": null,
      "grid_auto_rows": null,
      "grid_column": null,
      "grid_gap": null,
      "grid_row": null,
      "grid_template_areas": null,
      "grid_template_columns": null,
      "grid_template_rows": null,
      "height": null,
      "justify_content": null,
      "justify_items": null,
      "left": null,
      "margin": null,
      "max_height": null,
      "max_width": null,
      "min_height": null,
      "min_width": null,
      "object_fit": null,
      "object_position": null,
      "order": null,
      "overflow": null,
      "overflow_x": null,
      "overflow_y": null,
      "padding": null,
      "right": null,
      "top": null,
      "visibility": null,
      "width": null
     }
    },
    "e1c5714ca72d4906b6e380ac1697feb0": {
     "model_module": "@jupyter-widgets/controls",
     "model_module_version": "1.5.0",
     "model_name": "HBoxModel",
     "state": {
      "_dom_classes": [],
      "_model_module": "@jupyter-widgets/controls",
      "_model_module_version": "1.5.0",
      "_model_name": "HBoxModel",
      "_view_count": null,
      "_view_module": "@jupyter-widgets/controls",
      "_view_module_version": "1.5.0",
      "_view_name": "HBoxView",
      "box_style": "",
      "children": [
       "IPY_MODEL_668736183a3742a9bef90918d253f9b8",
       "IPY_MODEL_88c9103d96b44e0fa4ab90ffaf18d244",
       "IPY_MODEL_cab7cbcac3134fdf927f5426e7731fd3"
      ],
      "layout": "IPY_MODEL_46e2ed53ffc8458385d2ab79dafe04ad"
     }
    },
    "e3725252a2a2441cbe65627cbc67eae8": {
     "model_module": "@jupyter-widgets/controls",
     "model_module_version": "1.5.0",
     "model_name": "HTMLModel",
     "state": {
      "_dom_classes": [],
      "_model_module": "@jupyter-widgets/controls",
      "_model_module_version": "1.5.0",
      "_model_name": "HTMLModel",
      "_view_count": null,
      "_view_module": "@jupyter-widgets/controls",
      "_view_module_version": "1.5.0",
      "_view_name": "HTMLView",
      "description": "",
      "description_tooltip": null,
      "layout": "IPY_MODEL_d8000688eed94fdd83891fb72530531e",
      "placeholder": "​",
      "style": "IPY_MODEL_d34cab69cf244464aaf71d8ef5112e83",
      "value": "Downloading: 100%"
     }
    },
    "e3a661db9a1d49b8be2df4406f4c95ef": {
     "model_module": "@jupyter-widgets/controls",
     "model_module_version": "1.5.0",
     "model_name": "DescriptionStyleModel",
     "state": {
      "_model_module": "@jupyter-widgets/controls",
      "_model_module_version": "1.5.0",
      "_model_name": "DescriptionStyleModel",
      "_view_count": null,
      "_view_module": "@jupyter-widgets/base",
      "_view_module_version": "1.2.0",
      "_view_name": "StyleView",
      "description_width": ""
     }
    },
    "e5396aaa358c4f4ca6b2fb175f1f4635": {
     "model_module": "@jupyter-widgets/controls",
     "model_module_version": "1.5.0",
     "model_name": "DescriptionStyleModel",
     "state": {
      "_model_module": "@jupyter-widgets/controls",
      "_model_module_version": "1.5.0",
      "_model_name": "DescriptionStyleModel",
      "_view_count": null,
      "_view_module": "@jupyter-widgets/base",
      "_view_module_version": "1.2.0",
      "_view_name": "StyleView",
      "description_width": ""
     }
    },
    "e68e2674c83f4e5084a879b8776af72c": {
     "model_module": "@jupyter-widgets/controls",
     "model_module_version": "1.5.0",
     "model_name": "HTMLModel",
     "state": {
      "_dom_classes": [],
      "_model_module": "@jupyter-widgets/controls",
      "_model_module_version": "1.5.0",
      "_model_name": "HTMLModel",
      "_view_count": null,
      "_view_module": "@jupyter-widgets/controls",
      "_view_module_version": "1.5.0",
      "_view_name": "HTMLView",
      "description": "",
      "description_tooltip": null,
      "layout": "IPY_MODEL_c516e95e88ec4b7aaf93486031d9f2e5",
      "placeholder": "​",
      "style": "IPY_MODEL_e5396aaa358c4f4ca6b2fb175f1f4635",
      "value": " 236k/236k [00:00&lt;00:00, 936kB/s]"
     }
    },
    "eafb9fac4a6043eab52abcb61b927434": {
     "model_module": "@jupyter-widgets/base",
     "model_module_version": "1.2.0",
     "model_name": "LayoutModel",
     "state": {
      "_model_module": "@jupyter-widgets/base",
      "_model_module_version": "1.2.0",
      "_model_name": "LayoutModel",
      "_view_count": null,
      "_view_module": "@jupyter-widgets/base",
      "_view_module_version": "1.2.0",
      "_view_name": "LayoutView",
      "align_content": null,
      "align_items": null,
      "align_self": null,
      "border": null,
      "bottom": null,
      "display": null,
      "flex": null,
      "flex_flow": null,
      "grid_area": null,
      "grid_auto_columns": null,
      "grid_auto_flow": null,
      "grid_auto_rows": null,
      "grid_column": null,
      "grid_gap": null,
      "grid_row": null,
      "grid_template_areas": null,
      "grid_template_columns": null,
      "grid_template_rows": null,
      "height": null,
      "justify_content": null,
      "justify_items": null,
      "left": null,
      "margin": null,
      "max_height": null,
      "max_width": null,
      "min_height": null,
      "min_width": null,
      "object_fit": null,
      "object_position": null,
      "order": null,
      "overflow": null,
      "overflow_x": null,
      "overflow_y": null,
      "padding": null,
      "right": null,
      "top": null,
      "visibility": null,
      "width": null
     }
    },
    "eb89e887d1ec419dac17f086a6ded7a9": {
     "model_module": "@jupyter-widgets/controls",
     "model_module_version": "1.5.0",
     "model_name": "DescriptionStyleModel",
     "state": {
      "_model_module": "@jupyter-widgets/controls",
      "_model_module_version": "1.5.0",
      "_model_name": "DescriptionStyleModel",
      "_view_count": null,
      "_view_module": "@jupyter-widgets/base",
      "_view_module_version": "1.2.0",
      "_view_name": "StyleView",
      "description_width": ""
     }
    },
    "f2f3ca13916a4e8cbffd2afc4c14a498": {
     "model_module": "@jupyter-widgets/controls",
     "model_module_version": "1.5.0",
     "model_name": "FloatProgressModel",
     "state": {
      "_dom_classes": [],
      "_model_module": "@jupyter-widgets/controls",
      "_model_module_version": "1.5.0",
      "_model_name": "FloatProgressModel",
      "_view_count": null,
      "_view_module": "@jupyter-widgets/controls",
      "_view_module_version": "1.5.0",
      "_view_name": "ProgressView",
      "bar_style": "success",
      "description": "",
      "description_tooltip": null,
      "layout": "IPY_MODEL_33909187efcd4b24af175e7a1bd4f09d",
      "max": 134,
      "min": 0,
      "orientation": "horizontal",
      "style": "IPY_MODEL_0024983407714ac3b3c635a255adff8b",
      "value": 134
     }
    },
    "fa34e23ced3c46df9b9d70e778a6924a": {
     "model_module": "@jupyter-widgets/base",
     "model_module_version": "1.2.0",
     "model_name": "LayoutModel",
     "state": {
      "_model_module": "@jupyter-widgets/base",
      "_model_module_version": "1.2.0",
      "_model_name": "LayoutModel",
      "_view_count": null,
      "_view_module": "@jupyter-widgets/base",
      "_view_module_version": "1.2.0",
      "_view_name": "LayoutView",
      "align_content": null,
      "align_items": null,
      "align_self": null,
      "border": null,
      "bottom": null,
      "display": null,
      "flex": null,
      "flex_flow": null,
      "grid_area": null,
      "grid_auto_columns": null,
      "grid_auto_flow": null,
      "grid_auto_rows": null,
      "grid_column": null,
      "grid_gap": null,
      "grid_row": null,
      "grid_template_areas": null,
      "grid_template_columns": null,
      "grid_template_rows": null,
      "height": null,
      "justify_content": null,
      "justify_items": null,
      "left": null,
      "margin": null,
      "max_height": null,
      "max_width": null,
      "min_height": null,
      "min_width": null,
      "object_fit": null,
      "object_position": null,
      "order": null,
      "overflow": null,
      "overflow_x": null,
      "overflow_y": null,
      "padding": null,
      "right": null,
      "top": null,
      "visibility": null,
      "width": null
     }
    }
   }
  }
 },
 "nbformat": 4,
 "nbformat_minor": 5
}
